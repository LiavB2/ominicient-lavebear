{
 "cells": [
  {
   "attachments": {},
   "cell_type": "markdown",
   "metadata": {},
   "source": [
    "#  Unit 2.3 Extracting Information from Data, Pandas (Notebook)\n",
    "> Data connections, trends, and correlation.  Pandas is introduced as it could be valuable for PBL, data validation, as well as understanding College Board Topics.\n",
    "- toc: true\n",
    "- image: /images/python.png\n",
    "- categories: []\n",
    "- type: ap\n",
    "- week: 25"
   ]
  },
  {
   "attachments": {},
   "cell_type": "markdown",
   "metadata": {},
   "source": [
    "# 2.3 extracting information from data notes\n",
    "- People make careers of the skill of using pandas, Jupyter notebooks. \n",
    "\n",
    "## Pandas\n",
    "- A dataframe is table that is similar to sqlite and store data and metadata.\n",
    "    - Pandas allow you to work with both data and metadata\n",
    "- Allows you to create your own DataFrame in Python\n",
    "\n",
    "## Cleaning Data\n",
    "- Common problem in code is keeping the data that could lead to errors out. \n",
    "\n",
    "## Extracting Info\n",
    "\n",
    "### DataFrame Extract Column\n",
    "- index counts the amount of datapoints in the column\n",
    "- print df \"\" prints the datarelated to the data in the referenced dataframe.\n",
    "\n",
    "### Dataframe selection or filter\n",
    "- Demorgans law: The opposite of < is > or equal to.\n",
    "\n",
    "### Head and tail\n",
    "-  Head is the front of the data list, Tails is the back of a data list.\n",
    "\n",
    "## APIs are a source for writing programs with data"
   ]
  },
  {
   "attachments": {},
   "cell_type": "markdown",
   "metadata": {},
   "source": [
    "# Pandas and DataFrames\n",
    "> In this lesson we will be exploring data analysis using Pandas.  \n",
    "\n",
    "- College Board talks about ideas like \n",
    "    - Tools. \"the ability to process data depends on users capabilities and their tools\"\n",
    "    - Combining Data.  \"combine county data sets\"\n",
    "    - Status on Data\"determining the artist with the greatest attendance during a particular month\"\n",
    "    - Data poses challenge. \"the need to clean data\", \"incomplete data\"\n",
    "\n",
    "\n",
    "- [From Pandas Overview](https://pandas.pydata.org/docs/getting_started/index.html) -- When working with tabular data, such as data stored in spreadsheets or databases, pandas is the right tool for you. pandas will help you to explore, clean, and process your data. In pandas, a data table is called a DataFrame.\n",
    "\n",
    "\n",
    "![DataFrame](images/table_dataframe.png)"
   ]
  },
  {
   "cell_type": "code",
   "execution_count": null,
   "metadata": {},
   "outputs": [],
   "source": [
    "'''Pandas is used to gather data sets through its DataFrames implementation'''\n",
    "import pandas as pd"
   ]
  },
  {
   "attachments": {},
   "cell_type": "markdown",
   "metadata": {},
   "source": [
    "# Cleaning Data\n",
    "\n",
    "When looking at a data set, check to see what data needs to be cleaned. Examples include:\n",
    "- Missing Data Points\n",
    "- Invalid Data\n",
    "- Inaccurate Data\n",
    "\n",
    "Run the following code to see what needs to be cleaned"
   ]
  },
  {
   "cell_type": "code",
   "execution_count": null,
   "metadata": {},
   "outputs": [],
   "source": [
    "# reads the JSON file and converts it to a Pandas DataFrame\n",
    "df = pd.read_json('files/grade.json')\n",
    "\n",
    "print(df)\n",
    "# What part of the data set needs to be cleaned?\n",
    "# From PBL learning, what is a good time to clean data?  Hint, remember Garbage in, Garbage out?"
   ]
  },
  {
   "attachments": {},
   "cell_type": "markdown",
   "metadata": {},
   "source": [
    "# Extracting Info\n",
    "\n",
    "Take a look at some features that the Pandas library has that extracts info from the dataset"
   ]
  },
  {
   "attachments": {},
   "cell_type": "markdown",
   "metadata": {},
   "source": [
    "## DataFrame Extract Column"
   ]
  },
  {
   "cell_type": "code",
   "execution_count": null,
   "metadata": {},
   "outputs": [],
   "source": [
    "#print the values in the points column with column header\n",
    "print(df[['GPA']])\n",
    "\n",
    "print()\n",
    "\n",
    "#try two columns and remove the index from print statement\n",
    "print(df[['Student ID','GPA']].to_string(index=False))"
   ]
  },
  {
   "attachments": {},
   "cell_type": "markdown",
   "metadata": {},
   "source": [
    "## DataFrame Sort"
   ]
  },
  {
   "cell_type": "code",
   "execution_count": null,
   "metadata": {},
   "outputs": [],
   "source": [
    "#sort values\n",
    "print(df.sort_values(by=['GPA']))\n",
    "\n",
    "print()\n",
    "\n",
    "#sort the values in reverse order\n",
    "print(df.sort_values(by=['GPA'], ascending=False))"
   ]
  },
  {
   "attachments": {},
   "cell_type": "markdown",
   "metadata": {},
   "source": [
    "## DataFrame Selection or Filter"
   ]
  },
  {
   "cell_type": "code",
   "execution_count": null,
   "metadata": {},
   "outputs": [],
   "source": [
    "#print only values with a specific criteria \n",
    "print(df[df.GPA > 3.00])"
   ]
  },
  {
   "attachments": {},
   "cell_type": "markdown",
   "metadata": {},
   "source": [
    "## DataFrame Selection Max and Min"
   ]
  },
  {
   "cell_type": "code",
   "execution_count": null,
   "metadata": {},
   "outputs": [],
   "source": [
    "print(df[df.GPA == df.GPA.max()])\n",
    "print()\n",
    "print(df[df.GPA == df.GPA.min()])"
   ]
  },
  {
   "attachments": {},
   "cell_type": "markdown",
   "metadata": {},
   "source": [
    "# Create your own DataFrame\n",
    "\n",
    "Using Pandas allows you to create your own DataFrame in Python."
   ]
  },
  {
   "attachments": {},
   "cell_type": "markdown",
   "metadata": {},
   "source": [
    "## Python Dictionary to Pandas DataFrame"
   ]
  },
  {
   "cell_type": "code",
   "execution_count": null,
   "metadata": {},
   "outputs": [],
   "source": [
    "import pandas as pd\n",
    "\n",
    "#the data can be stored as a python dictionary\n",
    "dict = {\n",
    "  \"calories\": [420, 380, 390],\n",
    "  \"duration\": [50, 40, 45]\n",
    "}\n",
    "#stores the data in a data frame\n",
    "print(\"-------------Dict_to_DF------------------\")\n",
    "df = pd.DataFrame(dict)\n",
    "print(df)\n",
    "\n",
    "print(\"----------Dict_to_DF_labels--------------\")\n",
    "\n",
    "#or with the index argument, you can label rows.\n",
    "df = pd.DataFrame(dict, index = [\"day1\", \"day2\", \"day3\"])\n",
    "print(df)"
   ]
  },
  {
   "attachments": {},
   "cell_type": "markdown",
   "metadata": {},
   "source": [
    "## Examine DataFrame Rows"
   ]
  },
  {
   "cell_type": "code",
   "execution_count": null,
   "metadata": {},
   "outputs": [],
   "source": [
    "print(\"-------Examine Selected Rows---------\")\n",
    "#use a list for multiple labels:\n",
    "print(df.loc[[\"day1\", \"day3\"]])\n",
    "\n",
    "#refer to the row index:\n",
    "print(\"--------Examine Single Row-----------\")\n",
    "print(df.loc[\"day1\"])"
   ]
  },
  {
   "attachments": {},
   "cell_type": "markdown",
   "metadata": {},
   "source": [
    "## Pandas DataFrame Information"
   ]
  },
  {
   "cell_type": "code",
   "execution_count": null,
   "metadata": {},
   "outputs": [],
   "source": [
    "#print info about the data set\n",
    "print(df.info())"
   ]
  },
  {
   "attachments": {},
   "cell_type": "markdown",
   "metadata": {},
   "source": [
    "# Example of larger data set\n",
    "\n",
    "Pandas can read CSV and many other types of files, run the following code to see more features with a larger data set"
   ]
  },
  {
   "cell_type": "code",
   "execution_count": null,
   "metadata": {},
   "outputs": [],
   "source": [
    "import pandas as pd\n",
    "\n",
    "#read csv and sort 'Duration' largest to smallest\n",
    "df = pd.read_csv('files/data.csv').sort_values(by=['Duration'], ascending=False)\n",
    "\n",
    "print(\"--Duration Top 10---------\")\n",
    "print(df.head(10))\n",
    "\n",
    "print(\"--Duration Bottom 10------\")\n",
    "print(df.tail(10))\n"
   ]
  },
  {
   "attachments": {},
   "cell_type": "markdown",
   "metadata": {},
   "source": [
    "# APIs are a Source for Writing Programs with Data\n",
    "> 3rd Party APIs are a great source for creating Pandas Data Frames.  \n",
    "- Data can be fetched and resulting json can be placed into a Data Frame\n",
    "- Observe output, this looks very similar to a Database"
   ]
  },
  {
   "cell_type": "code",
   "execution_count": null,
   "metadata": {},
   "outputs": [],
   "source": [
    "'''Pandas can be used to analyze data'''\n",
    "import pandas as pd\n",
    "import requests\n",
    "\n",
    "def fetch():\n",
    "    '''Obtain data from an endpoint'''\n",
    "    url = \"https://flask.nighthawkcodingsociety.com/api/covid/\"\n",
    "    fetch = requests.get(url)\n",
    "    json = fetch.json()\n",
    "\n",
    "    # filter data for requirement\n",
    "    df = pd.DataFrame(json['countries_stat'])  # filter endpoint for country stats\n",
    "    print(df.loc[0:5, 'country_name':'deaths']) # show row 0 through 5 and columns country_name through deaths\n",
    "    \n",
    "fetch()"
   ]
  },
  {
   "attachments": {},
   "cell_type": "markdown",
   "metadata": {},
   "source": [
    "# Hacks\n",
    "> Early Seed award\n",
    "- Add this Blog to you own Blogging site.\n",
    "- Have all lecture files saved to your files directory before Tech Talk starts. Have data.csv open in vscode. Don't tell anyone. Show to Teacher.\n",
    "\n",
    "> AP Prep\n",
    "- Add this Blog to you own Blogging site.  In the Blog add notes and observations on each code cell.\n",
    "- In blog add College Board practice problems for 2.3.\n",
    "\n",
    "> The next 4 weeks, Teachers want you to improve your understanding of data.  Look at the blog and others on Unit 2.  Your intention is to find some things to differentiate your individual College Board project.\n",
    "- Create or Find your own dataset.  The suggestion is to use a JSON file, integrating with your PBL project would be ***Fambulous***.\n",
    "\n",
    "    When choosing a data set, think about the following:\n",
    "    - Does it have a good sample size?\n",
    "    - Is there bias in the data?\n",
    "    - Does the data set need to be cleaned?\n",
    "    - What is the purpose of the data set?\n",
    "    - ...\n",
    "- Continue this Blog using Pandas extract info from that dataset (ex. max, min, mean, median, mode, etc.)\n"
   ]
  },
  {
   "attachments": {},
   "cell_type": "markdown",
   "metadata": {},
   "source": [
    "# My Fitness Dataset:\n",
    "- Relates to my CPT project"
   ]
  },
  {
   "cell_type": "code",
   "execution_count": 1,
   "metadata": {},
   "outputs": [
    {
     "name": "stdout",
     "output_type": "stream",
     "text": [
      "    Name  Age  Weight  Height   BMI\n",
      "0   Liav   25    75.5     180  23.3\n",
      "1  Safin   32    68.2     165  25.0\n",
      "2    Adi   47    81.7     175  26.6\n",
      "3  Arnav   19    61.8     160  24.1\n",
      "4  Taiyo   56    92.3     190  25.5\n",
      "Etracker User Data:\n",
      "Age:\n",
      "User Max age: 56\n",
      "User Min age: 19\n",
      "User Mean age: 35.8\n",
      "User Median age: 32.0\n",
      "User Mode age: 19\n",
      "Weight:\n",
      "User Max Weight: 92.3\n",
      "User Min Weight: 61.8\n",
      "User Mean Weight: 75.9\n",
      "User Median Weight: 75.5\n",
      "User Mode Weight: 61.8\n",
      "Height:\n",
      "User Max Height: 190\n",
      "User Min Height: 160\n",
      "User Mean Height: 174.0\n",
      "User Median Height: 175.0\n",
      "User Mode Height: 160\n",
      "BMI:\n",
      "User Max BMI: 190\n",
      "User Min BMI: 160\n",
      "User Mean BMI: 174.0\n",
      "User Median BMI: 175.0\n",
      "User Mode BMI: 160\n"
     ]
    }
   ],
   "source": [
    "import pandas as pd\n",
    "\n",
    "# Create a fitness dataset\n",
    "data = {\n",
    "    'Name': ['Liav', 'Safin', 'Adi', 'Arnav', 'Taiyo'],\n",
    "    'Age': [25, 32, 47, 19, 56],\n",
    "    'Weight': [75.5, 68.2, 81.7, 61.8, 92.3],\n",
    "    'Height': [180, 165, 175, 160, 190],\n",
    "    'BMI': [23.3, 25.0, 26.6, 24.1, 25.5]\n",
    "}\n",
    "\n",
    "df = pd.DataFrame(data)\n",
    "\n",
    "# Display the dataset\n",
    "print(df)\n",
    "\n",
    "print('Etracker User Data:')\n",
    "\n",
    "# Calculate some basic statistics\n",
    "\n",
    "print('Age:')\n",
    "age_stats = {'Max': df['Age'].max(),\n",
    "             'Min': df['Age'].min(),\n",
    "             'Mean': df['Age'].mean(),\n",
    "             'Median': df['Age'].median(),\n",
    "             'Mode': df['Age'].mode()[0]}\n",
    "\n",
    "for stat, value in age_stats.items():\n",
    "    print(f'User {stat} age: {value}')\n",
    "\n",
    "print('Weight:')\n",
    "weight_stats = {'Max': df['Weight'].max(),\n",
    "             'Min': df['Weight'].min(),\n",
    "             'Mean': df['Weight'].mean(),\n",
    "             'Median': df['Weight'].median(),\n",
    "             'Mode': df['Weight'].mode()[0]}\n",
    "\n",
    "for stat, value in weight_stats.items():\n",
    "    print(f'User {stat} Weight: {value}')\n",
    "\n",
    "print('Height:')\n",
    "height_stats = {'Max': df['Height'].max(),\n",
    "             'Min': df['Height'].min(),\n",
    "             'Mean': df['Height'].mean(),\n",
    "             'Median': df['Height'].median(),\n",
    "             'Mode': df['Height'].mode()[0]}\n",
    "\n",
    "for stat, value in height_stats.items():\n",
    "    print(f'User {stat} Height: {value}')\n",
    "\n",
    "print('BMI:')\n",
    "bmi_stats = {'Max': df['BMI'].max(),\n",
    "             'Min': df['BMI'].min(),\n",
    "             'Mean': df['BMI'].mean(),\n",
    "             'Median': df['BMI'].median(),\n",
    "             'Mode': df['BMI'].mode()[0]}\n",
    "\n",
    "for stat, value in height_stats.items():\n",
    "    print(f'User {stat} BMI: {value}')\n"
   ]
  },
  {
   "attachments": {},
   "cell_type": "markdown",
   "metadata": {},
   "source": [
    "# 2.3 College Board Questions Explainations \n",
    "\n",
    "## Data Compression\n",
    "\n",
    "### Q1 Advantage of lossless over lossy compression\n",
    "- The question asks us to determine what an advantage of lossless compressed algorithm over a lossy one.\n",
    "- Of course the only option that made sense was a lossless compression can guarentee reconsturction of original data, while lossy cannot. This is the obvious choice because this is the main difference between lossy and lossless that we learned, so this must be the correct answer\n",
    "\n",
    "### Q2 Compression algorithm for storing a data file\n",
    "- The question gives us a situation of a user who wants to save a datafile on an online storage. They want to reduce the size of the file and they ask us which type would be the best in the case that they want to be able to restore the file to its original version\n",
    "- Of course the only right iption would be using a lossless compression, because being able to recover the file is the main purpose of using it.\n",
    "\n",
    "### Q3 True Statement about compression\n",
    "- The question gives us a situation of a software developer for a social media platform. They want us to suggest whihch type of image compression they should use for their site.\n",
    "- They should most likely use lossy compression since it provices less transmission time, as the information is not necessarily lost when this type is used.\n",
    "\n",
    "### Application of these questions\n",
    "- The main purpose of these questions were so that we were able to differentiate lossy and lossless image compression. I now am very familiar with their definitions.\n",
    "- I can apply this to my daily life, because I use social media every day, so I am now more familiar with the type of image compression that these social media companies most likely use.\n",
    "\n",
    "## Extracting Information From Data\n",
    "\n",
    "### Q1 Challenge due to lack of unique ID\n",
    "- This question gives a situation about a reasearcher that is analyzing data about some students about a rrelationshiip between gpa and absences. They have access to a database, but it only takes into account the name of the students.\n",
    "- THe progblem askes us why is it bad to not have unique IDs for each student, and this is most defniately because you could possibly confuse two students if they have the same name./\n",
    "\n",
    "### Q2 Challenge in analyzing data from many counties\n",
    "- Some researches want to analyze pollution in 3000 US counties but they ask what a possible problem with this could be.\n",
    "- THe only correct option that would come to mind is that different counteies morganize data in different ways. This has to be true because the researchers cannot expect everyone to organize their data in the same way so it would be very hard to combine all their files into one spot and analyze them.\n",
    "\n",
    "### Q3 Challemges with city data entered by users\n",
    "- The question asks us for possible problems with a program where users input a city name and info about it is outputted\n",
    "- The obvious problems that come to mind are that people might mispell or even enter abbreviations of the city, so the program would not take into account possible erros of the user.\n",
    "\n",
    "### Q4 Determine Artist with the most concert attendees\n",
    "- The program has the purpsose of finding the greatest attneance of a few concerts ina  month, and asks what type of data they should add besides date, revenue and artist.\n",
    "- The food and drinks, length of show, and start of show have absolutely nothing to do with the amount of tickets sold, and average ticket price would make sense to be able to count how mant people went since we already theoretically know how much money was made from tickets, so using the average ticket price would easily allow us to find a rough estimate of how many people showed up.\n",
    "\n",
    "### Q5 Information determined using dashboard metadata\n",
    "- image data from the view of a car driver is sstored every second and captures the cars sepepd at theat specifc data and time. The problem asks what datapoint would be found without using metadate.\n",
    "- Of course this would be the bumber of bikes that passed by the car, since the rest of the options are found using averages or calculations (or metadate) based on the data given, while number of bikes is the only concrete data option.\n",
    "\n",
    "### Q6 Information from student work habit survey\n",
    "- The question asks us to analyze what questions can be answered based on the responces from a survey that a teacher gave to their students. It aaks about how long hw takes, how long you study for tests, and if you enjoy those subjects\n",
    "- Based on these survey questions, the teacher would definately be able to answer which subjects the students like, since thats the entire last question (I) and be able to see if students spend more time studying or doing hw (II) so those are for sure the two right answer choices.\n",
    "\n",
    "### Application of these questions\n",
    "- THese questions were very efficient and benefital in insuring that we are able to understand the different ways to extract data and be able to solve various problems in the methods to do so. It also checked in on if we understand what metadata is, which will definately prepare us for collegeboard well.\n",
    "- As a programmer, these questions will benefit me greatly, so I will know to always look for problems in a dataset that I am analyzing, as well as be able to understand what the outcome I want is thoroughly. \n",
    "\n",
    "## Using Programs with Data \n",
    "\n",
    "### Q1 Bookstore Spreadsheet\n",
    "- The question gives us a spreadheet about some books in a bookstore where the employee wants to count the numebr of books that are a mystery, under $10 and have at least one copy in stock. \n",
    "- The expression that gives us that would for sure be \"(genre = \"mystery\") AND ((1 ≤ num) AND (cost < 10.00))\" because the output is supposed to reqire all of that data so AND would be required and OR statements would result to an output of false\n",
    "\n",
    "### Q2 Clothing store ssales information\n",
    "- A store owner tracks dates, payment method, number of itmes, and dollars paid for every transaction and the question asks us which statemtn is true during a 7 day period.\n",
    "- The owner will of course be able to track the number of items purchased throughout that 7 week period since they can just add up the number of items purchased and matching that to the amount of transactions on each day. I don't see what this question has to do with programming is, but it was quite simple to solve.\n",
    "\n",
    "### Q3 Data files to contact customers who use batteries\n",
    "- A company uses data files about their customers, products, and purchases. They want to know how to use these data files to determine who would be best fit to target in an email campaign for their rechargable batery pack. \n",
    "- THe best option would be to compare the customer IDs to items purchased IDs in order to determine the profiles which would possibly need or want this specific rechargable battery pack.\n",
    "\n",
    "### Q4 Museum photograph spreadsheet\n",
    "- There is a spreadsheet of inofor about pics in a museums collection with the photographer, subject, year, abd publicly available (T/F) A program wants to find which photographer took the oldest picture in the collection and the problem asks how you would do so.\n",
    "- This is quite simple. The best option would be to filter by photographer and sort them by year, or vice versa. This would output the years of each photo, in order, as compared to the photographer that took the photos. \n",
    "\n",
    "### Q5 Radio Show Spreadheet\n",
    "- A spreadsheet has info about the schedule for a college rado station inclding show name, gnere, day, start time, and end time. A programmer waantst o be able to count the number of shows that are both a talk show and on a Sat/Sun. \n",
    "-  Of course te best expressoon to output a ture statemnt for this situation would be (genre = \"talk\") AND ((day = \"Saturday\") OR (day = \"Sunday\")) because they must be a talk show AND either OR Sat/SUN which is filtered by the first AND statement that signifies that it requires both a talk show and on the specific date and the OR statemtn to signify either Sat or sunday.\n",
    "\n",
    "### Use of Databases to display animal information\n",
    "- A preserve develops an exibit with various facts about each animal based on the selection that each guest makes. The preserve has two databases of information available to use for the exhibit. The first database contains information for each animal’s name, classification, skin type, and thermoregulation. The second database contains information for each animal’s name, lifestyle, average life span, and top speed. The problem asks how these daabases can help develop the interactive exhibit.\n",
    "- It is quite obvious that both of these databases are required for the information that they want to display at this interactive exhibit, because they contain the specific data that they are looking for.\n",
    "\n",
    "### Application of these questions\n",
    "- These questions are moreover less about programming specifically but they gave us a great idea on how to analyze the data, specifc outputs, and purposes of various databases, datasets, and spreadsheets.\n",
    "- This will be very benefitial for our programming futures, since it gave us situations that could be very similar to those for our projects in the future, and gave us the problem solving and data analyzation skills neccessary in order to do so.\n"
   ]
  },
  {
   "attachments": {},
   "cell_type": "markdown",
   "metadata": {},
   "source": [
    "\n",
    "## Hack Helpers\n",
    "> Here is how Mort started on this assignment by asking ChatGPT  ... Regarding Python Pandas, what are some data sets that would be good for learning Pandas?\n",
    "\n",
    "- There are many data sets that are suitable for learning pandas, depending on your interests and the skills you want to develop. Here are some suggestions:\n",
    "\n",
    "    - Titanic Dataset: This is a classic dataset for data analysis and machine learning, and is often used as an introduction to pandas. The dataset contains information about passengers on the Titanic, including their demographics, ticket class, and survival status.\n",
    "\n",
    "    - Iris Dataset: This is another classic dataset that is often used in machine learning and data analysis courses. The dataset contains information about iris flowers, including their sepal length, sepal width, petal length, and petal width.\n",
    "\n",
    "    - NBA Player Stats: This dataset contains information about NBA players, including their stats for various games, their positions, and their salaries. It is a great dataset for learning how to clean and manipulate data using pandas.\n",
    "\n",
    "    - Housing Prices Dataset: This dataset contains information about housing prices in a particular city or region, including variables such as the number of bedrooms, square footage, and price. It is a great dataset for learning how to manipulate and analyze numerical data using pandas.\n",
    "\n",
    "    - COVID-19 Dataset: This dataset contains information about the COVID-19 pandemic, including the number of cases, deaths, and recoveries in various countries and regions. It is a great dataset for learning how to manipulate and analyze time-series data using pandas.\n",
    "\n",
    "    - World Bank Dataset: This dataset contains information about economic indicators from various countries, such as GDP, population, and poverty rates. It is a great dataset for learning how to manipulate and analyze large datasets using pandas.\n",
    "\n",
    "- These are just a few examples of the many datasets that are suitable for learning pandas. The best dataset for you will depend on your interests and the specific skills you want to develop.\n",
    "\n",
    "\n",
    "> Follow up question, \"where can I find Titanic data set?\"\n",
    "\n",
    "- The Titanic dataset is a popular dataset for data analysis and machine learning, and it can be found on various websites and data repositories. Here are a few places where you can find the Titanic dataset:\n",
    "\n",
    "    - Kaggle: The Titanic dataset is available on Kaggle, which is a popular platform for data scientists and machine learning enthusiasts. You can download the dataset from the Kaggle website after creating an account.\n",
    "\n",
    "    - UCI Machine Learning Repository: The Titanic dataset is also available on the UCI Machine Learning Repository, which is a collection of datasets that are commonly used for machine learning research. You can download the dataset from the UCI Machine Learning Repository website.\n",
    "\n",
    "    - Seaborn library: If you have the Seaborn library installed in your Python environment, you can load the Titanic dataset directly from the library using the following code:\n",
    "\n",
    "    ```python\n",
    "    import seaborn as sns\n",
    "    titanic_data = sns.load_dataset('titanic')\n",
    "    ```"
   ]
  },
  {
   "attachments": {},
   "cell_type": "markdown",
   "metadata": {},
   "source": [
    "### Titanic Data\n",
    "> Look at a sample of data."
   ]
  },
  {
   "cell_type": "code",
   "execution_count": 3,
   "metadata": {},
   "outputs": [
    {
     "name": "stdout",
     "output_type": "stream",
     "text": [
      "Titanic Data\n",
      "Index(['survived', 'pclass', 'sex', 'age', 'sibsp', 'parch', 'fare',\n",
      "       'embarked', 'class', 'who', 'adult_male', 'deck', 'embark_town',\n",
      "       'alive', 'alone'],\n",
      "      dtype='object')\n",
      "     survived  pclass     sex   age  sibsp  parch   class     fare  \\\n",
      "0           0       3    male  22.0      1      0   Third   7.2500   \n",
      "1           1       1  female  38.0      1      0   First  71.2833   \n",
      "2           1       3  female  26.0      0      0   Third   7.9250   \n",
      "3           1       1  female  35.0      1      0   First  53.1000   \n",
      "4           0       3    male  35.0      0      0   Third   8.0500   \n",
      "..        ...     ...     ...   ...    ...    ...     ...      ...   \n",
      "886         0       2    male  27.0      0      0  Second  13.0000   \n",
      "887         1       1  female  19.0      0      0   First  30.0000   \n",
      "888         0       3  female   NaN      1      2   Third  23.4500   \n",
      "889         1       1    male  26.0      0      0   First  30.0000   \n",
      "890         0       3    male  32.0      0      0   Third   7.7500   \n",
      "\n",
      "     embark_town  \n",
      "0    Southampton  \n",
      "1      Cherbourg  \n",
      "2    Southampton  \n",
      "3    Southampton  \n",
      "4    Southampton  \n",
      "..           ...  \n",
      "886  Southampton  \n",
      "887  Southampton  \n",
      "888  Southampton  \n",
      "889    Cherbourg  \n",
      "890   Queenstown  \n",
      "\n",
      "[891 rows x 9 columns]\n"
     ]
    }
   ],
   "source": [
    "import seaborn as sns\n",
    "\n",
    "# Load the titanic dataset\n",
    "titanic_data = sns.load_dataset('titanic')\n",
    "\n",
    "print(\"Titanic Data\")\n",
    "\n",
    "\n",
    "print(titanic_data.columns) # titanic data set\n",
    "\n",
    "print(titanic_data[['survived','pclass', 'sex', 'age', 'sibsp', 'parch', 'class', 'fare', 'embark_town']]) # look at selected columns"
   ]
  },
  {
   "attachments": {},
   "cell_type": "markdown",
   "metadata": {},
   "source": [
    "> Use Pandas to clean the data.  Most analysis, like Machine Learning or even Pandas in general like data to be in standardized format.  This is called 'Training' or 'Cleaning' data."
   ]
  },
  {
   "cell_type": "code",
   "execution_count": 4,
   "metadata": {},
   "outputs": [
    {
     "name": "stdout",
     "output_type": "stream",
     "text": [
      "     survived  pclass  sex   age  sibsp  parch      fare  alone  embarked_C  \\\n",
      "0           0       3    1  22.0      1      0    7.2500      0         0.0   \n",
      "1           1       1    0  38.0      1      0   71.2833      0         1.0   \n",
      "2           1       3    0  26.0      0      0    7.9250      1         0.0   \n",
      "3           1       1    0  35.0      1      0   53.1000      0         0.0   \n",
      "4           0       3    1  35.0      0      0    8.0500      1         0.0   \n",
      "..        ...     ...  ...   ...    ...    ...       ...    ...         ...   \n",
      "705         0       2    1  39.0      0      0   26.0000      1         0.0   \n",
      "706         1       2    0  45.0      0      0   13.5000      1         0.0   \n",
      "707         1       1    1  42.0      0      0   26.2875      1         0.0   \n",
      "708         1       1    0  22.0      0      0  151.5500      1         0.0   \n",
      "710         1       1    0  24.0      0      0   49.5042      1         1.0   \n",
      "\n",
      "     embarked_Q  embarked_S  \n",
      "0           0.0         1.0  \n",
      "1           0.0         0.0  \n",
      "2           0.0         1.0  \n",
      "3           0.0         1.0  \n",
      "4           0.0         1.0  \n",
      "..          ...         ...  \n",
      "705         0.0         1.0  \n",
      "706         0.0         1.0  \n",
      "707         1.0         0.0  \n",
      "708         0.0         1.0  \n",
      "710         0.0         0.0  \n",
      "\n",
      "[564 rows x 11 columns]\n"
     ]
    }
   ],
   "source": [
    "\n",
    "# Preprocess the data\n",
    "from sklearn.preprocessing import OneHotEncoder\n",
    "\n",
    "\n",
    "td = titanic_data\n",
    "td.drop(['alive', 'who', 'adult_male', 'class', 'embark_town', 'deck'], axis=1, inplace=True)\n",
    "td.dropna(inplace=True)\n",
    "td['sex'] = td['sex'].apply(lambda x: 1 if x == 'male' else 0)\n",
    "td['alone'] = td['alone'].apply(lambda x: 1 if x == True else 0)\n",
    "\n",
    "# Encode categorical variables\n",
    "enc = OneHotEncoder(handle_unknown='ignore')\n",
    "enc.fit(td[['embarked']])\n",
    "onehot = enc.transform(td[['embarked']]).toarray()\n",
    "cols = ['embarked_' + val for val in enc.categories_[0]]\n",
    "td[cols] = pd.DataFrame(onehot)\n",
    "td.drop(['embarked'], axis=1, inplace=True)\n",
    "td.dropna(inplace=True)\n",
    "\n",
    "print(td)"
   ]
  },
  {
   "attachments": {},
   "cell_type": "markdown",
   "metadata": {},
   "source": [
    "> The result of 'Training' data is making it easier to analyze or make conclusions.  In looking at the Titanic, as you clean you would probably want to make assumptions on likely chance of survival.\n",
    "\n",
    "This would involve analyzing various factors (such as age, gender, class, etc.) that may have affected a person's chances of survival, and using that information to make predictions about whether an individual would have survived or not. \n",
    "\n",
    "- Data description:\n",
    "    - Survival - Survival (0 = No; 1 = Yes). Not included in test.csv file.\n",
    "    - Pclass - Passenger Class (1 = 1st; 2 = 2nd; 3 = 3rd)\n",
    "    - Name - Name\n",
    "    - Sex - Sex\n",
    "    - Age - Age\n",
    "    - Sibsp - Number of Siblings/Spouses Aboard\n",
    "    - Parch - Number of Parents/Children Aboard\n",
    "    - Ticket - Ticket Number\n",
    "    - Fare - Passenger Fare\n",
    "    - Cabin - Cabin\n",
    "    - Embarked - Port of Embarkation (C = Cherbourg; Q = Queenstown; S = Southampton)\n",
    "\n",
    "- Perished Mean/Average"
   ]
  },
  {
   "cell_type": "code",
   "execution_count": 5,
   "metadata": {},
   "outputs": [
    {
     "name": "stdout",
     "output_type": "stream",
     "text": [
      "survived       0.000000\n",
      "pclass         2.464072\n",
      "sex            0.844311\n",
      "age           31.073353\n",
      "sibsp          0.562874\n",
      "parch          0.398204\n",
      "fare          24.835902\n",
      "alone          0.616766\n",
      "embarked_C     0.185629\n",
      "embarked_Q     0.038922\n",
      "embarked_S     0.775449\n",
      "dtype: float64\n"
     ]
    }
   ],
   "source": [
    "print(titanic_data.query(\"survived == 0\").mean())"
   ]
  },
  {
   "attachments": {},
   "cell_type": "markdown",
   "metadata": {},
   "source": [
    "- Survived Mean/Average"
   ]
  },
  {
   "cell_type": "code",
   "execution_count": null,
   "metadata": {},
   "outputs": [],
   "source": [
    "print(td.query(\"survived == 1\").mean())"
   ]
  },
  {
   "attachments": {},
   "cell_type": "markdown",
   "metadata": {},
   "source": [
    "> Survived Max and Min Stats"
   ]
  },
  {
   "cell_type": "code",
   "execution_count": null,
   "metadata": {},
   "outputs": [],
   "source": [
    "print(td.query(\"survived == 1\").max())\n",
    "print(td.query(\"survived == 1\").min())"
   ]
  },
  {
   "attachments": {},
   "cell_type": "markdown",
   "metadata": {},
   "source": [
    "## Machine Learning\n",
    "> [From Tutorials Point](https://www.tutorialspoint.com/scikit_learn/scikit_learn_introduction.htm#:~:text=Scikit%2Dlearn%20(Sklearn)%20is,a%20consistence%20interface%20in%20Python).  Scikit-learn (Sklearn) is the most useful and robust library for machine learning in Python. It provides a selection of efficient tools for machine learning and statistical modeling including classification, regression, clustering and dimensionality reduction via a consistence interface in Python.\n",
    "\n",
    "> Description from ChatGPT. The Titanic dataset is a popular dataset for data analysis and machine learning. In the context of machine learning, accuracy refers to the percentage of correctly classified instances in a set of predictions. In this case, the testing data is a subset of the original Titanic dataset that the decision tree model has not seen during training......After training the decision tree model on the training data, we can evaluate its performance on the testing data by making predictions on the testing data and comparing them to the actual outcomes. The accuracy of the decision tree classifier on the testing data tells us how well the model generalizes to new data that it hasn't seen before......For example, if the accuracy of the decision tree classifier on the testing data is 0.8 (or 80%), this means that 80% of the predictions made by the model on the testing data were correct....Chance of survival could be done using various machine learning techniques, including decision trees, logistic regression, or support vector machines, among others.\n",
    "\n",
    "- Code Below prepares data for further analysis and provides an Accuracy.  IMO, you would insert a new passenger and predict survival.  Datasets could be used on various factors like prediction if a player will hit a Home Run, or a Stock will go up or down.\n",
    "    - [Decision Trees](https://scikit-learn.org/stable/modules/tree.html#tree), prediction by a piecewise constant approximation.\n",
    "    - [Logistic Regression](https://scikit-learn.org/stable/modules/linear_model.html#logistic-regression), the probabilities describing the possible outcomes."
   ]
  },
  {
   "cell_type": "code",
   "execution_count": null,
   "metadata": {},
   "outputs": [],
   "source": [
    "from sklearn.model_selection import train_test_split\n",
    "from sklearn.tree import DecisionTreeClassifier\n",
    "from sklearn.linear_model import LogisticRegression\n",
    "from sklearn.metrics import accuracy_score\n",
    "\n",
    "# Split arrays or matrices into random train and test subsets.\n",
    "X = td.drop('survived', axis=1)\n",
    "y = td['survived']\n",
    "X_train, X_test, y_train, y_test = train_test_split(X, y, test_size=0.3, random_state=42)\n",
    "\n",
    "# Train a decision tree classifier\n",
    "dt = DecisionTreeClassifier()\n",
    "dt.fit(X_train, y_train)\n",
    "\n",
    "# Test the model\n",
    "y_pred = dt.predict(X_test)\n",
    "accuracy = accuracy_score(y_test, y_pred)\n",
    "print('DecisionTreeClassifier Accuracy:', accuracy)\n",
    "\n",
    "# Train a logistic regression model\n",
    "logreg = LogisticRegression()\n",
    "logreg.fit(X_train, y_train)\n",
    "\n",
    "# Test the model\n",
    "y_pred = logreg.predict(X_test)\n",
    "accuracy = accuracy_score(y_test, y_pred)\n",
    "print('LogisticRegression Accuracy:', accuracy)\n",
    "\n"
   ]
  }
 ],
 "metadata": {
  "kernelspec": {
   "display_name": "base",
   "language": "python",
   "name": "python3"
  },
  "language_info": {
   "codemirror_mode": {
    "name": "ipython",
    "version": 3
   },
   "file_extension": ".py",
   "mimetype": "text/x-python",
   "name": "python",
   "nbconvert_exporter": "python",
   "pygments_lexer": "ipython3",
   "version": "3.9.12 (main, Apr  5 2022, 06:56:58) \n[GCC 7.5.0]"
  },
  "orig_nbformat": 4,
  "vscode": {
   "interpreter": {
    "hash": "b855838ac52a58d7b74572dc8f7014b4acf313ddbe03509d0adf6f509b1dfd58"
   }
  }
 },
 "nbformat": 4,
 "nbformat_minor": 2
}
