{
 "cells": [
  {
   "attachments": {},
   "cell_type": "markdown",
   "metadata": {},
   "source": [
    "# JavaScript Discussion Board Exit Ticket Project Notebook\n",
    "> My progress and eventual success in jupyter notebooks to make my comment post program\n",
    "\n",
    "- categories: [Notes]"
   ]
  },
  {
   "attachments": {},
   "cell_type": "markdown",
   "metadata": {},
   "source": [
    "# Python Stuff\n",
    "- I spent like an hour on this code bellow, just to realise that I had to do a JAVASCRIPT Project.\n",
    "- I spent too much time on it to delete it though."
   ]
  },
  {
   "cell_type": "code",
   "execution_count": 2,
   "metadata": {},
   "outputs": [
    {
     "name": "stdout",
     "output_type": "stream",
     "text": [
      "Name: Amay\n",
      "Comment: What is this thing?\n",
      "\n",
      "Name: Lave\n",
      "Comment: Its my python discussion board\n",
      "\n",
      "Name: Amay\n",
      "Comment: Oh cool\n",
      "\n",
      "\n",
      "User JSON:\n",
      "\n",
      "[\n",
      "    {\n",
      "        \"name\": \"Amay\",\n",
      "        \"comment\": \"What is this thing?\"\n",
      "    },\n",
      "    {\n",
      "        \"name\": \"Lave\",\n",
      "        \"comment\": \"Its my python discussion board\"\n",
      "    },\n",
      "    {\n",
      "        \"name\": \"Amay\",\n",
      "        \"comment\": \"Oh cool\"\n",
      "    }\n",
      "]\n"
     ]
    }
   ],
   "source": [
    "from IPython.display import display, HTML\n",
    "import json\n",
    "\n",
    "class Person:\n",
    "    def __init__(self, name, comment):\n",
    "        self.name = name\n",
    "        self.comment = comment\n",
    "\n",
    "def add_comment():\n",
    "    name = input(\"Enter your name: \")\n",
    "    comment = input(\"Enter your comment: \")\n",
    "\n",
    "    person = Person(name, comment)\n",
    "    user_list.append(person)\n",
    "\n",
    "def generate_board():\n",
    "    for person in user_list:\n",
    "        print(f\"Name: {person.name}\")\n",
    "        print(f\"Comment: {person.comment}\")\n",
    "        print()\n",
    "\n",
    "# Create an empty list to store user comments\n",
    "user_list = []\n",
    "\n",
    "# Prompt the user for input\n",
    "num_comments = int(input(\"Enter the number of comments: \"))\n",
    "\n",
    "for _ in range(num_comments):\n",
    "    add_comment()\n",
    "\n",
    "# Generate the comments board\n",
    "generate_board()\n",
    "\n",
    "# Convert the user list to JSON\n",
    "user_json = json.dumps([person.__dict__ for person in user_list], indent=4)\n",
    "print(\"\\nUser JSON:\\n\")\n",
    "print(user_json)\n"
   ]
  },
  {
   "attachments": {},
   "cell_type": "markdown",
   "metadata": {},
   "source": [
    "# First attempt:"
   ]
  },
  {
   "cell_type": "code",
   "execution_count": 6,
   "metadata": {
    "vscode": {
     "languageId": "javascript"
    }
   },
   "outputs": [
    {
     "data": {
      "text/html": [
       "<h3>Enter Your Information</h3>\n",
       "<div>\n",
       "  <label for=\"name\">Name:</label>\n",
       "  <input type=\"text\" id=\"name\" placeholder=\"Enter your name\">\n",
       "</div>\n",
       "<div>\n",
       "  <label for=\"exercise\">Favorite Exercise:</label>\n",
       "  <input type=\"text\" id=\"exercise\" placeholder=\"Enter your favorite exercise\">\n",
       "</div>\n",
       "<div>\n",
       "  <label for=\"effectiveness\">Why You Like It:</label>\n",
       "  <input type=\"text\" id=\"effectiveness\" placeholder=\"Enter why why you like it\">\n",
       "</div>\n",
       "<button onclick=\"submitData()\">Submit</button>\n",
       "\n",
       "<!-- Table to display submitted data -->\n",
       "<table id=\"dataTable\" class=\"tablesorter\">\n",
       "  <thead>\n",
       "    <tr>\n",
       "      <th>Name</th>\n",
       "      <th>Favorite Exercise</th>\n",
       "      <th>Why You Like It</th>\n",
       "    </tr>\n",
       "  </thead>\n",
       "  <tbody></tbody>\n",
       "</table>\n",
       "\n",
       "<script>\n",
       "  // Function to submit the entered data\n",
       "  function submitData() {\n",
       "    const name = document.getElementById('name').value;\n",
       "    const exercise = document.getElementById('exercise').value;\n",
       "    const effectiveness = document.getElementById('effectiveness').value;\n",
       "\n",
       "    // create a new row in the table and append the entered data\n",
       "    const table = document.getElementById('dataTable').getElementsByTagName('tbody')[0];\n",
       "    const newRow = table.insertRow();\n",
       "    const cell1 = newRow.insertCell(0);\n",
       "    const cell2 = newRow.insertCell(1);\n",
       "    const cell3 = newRow.insertCell(2);\n",
       "    cell1.innerHTML = name;\n",
       "    cell2.innerHTML = exercise;\n",
       "    cell3.innerHTML = effectiveness;\n",
       "\n",
       "    // clear the input fields\n",
       "    document.getElementById('name').value = '';\n",
       "    document.getElementById('exercise').value = '';\n",
       "    document.getElementById('effectiveness').value = '';\n",
       "  }\n",
       "</script>\n"
      ],
      "text/plain": [
       "<IPython.core.display.HTML object>"
      ]
     },
     "metadata": {},
     "output_type": "display_data"
    }
   ],
   "source": [
    "%%html\n",
    "<h3>Enter Your Information</h3>\n",
    "<div>\n",
    "  <label for=\"name\">Name:</label>\n",
    "  <input type=\"text\" id=\"name\" placeholder=\"Enter your name\">\n",
    "</div>\n",
    "<div>\n",
    "  <label for=\"exercise\">Favorite Exercise:</label>\n",
    "  <input type=\"text\" id=\"exercise\" placeholder=\"Enter your favorite exercise\">\n",
    "</div>\n",
    "<div>\n",
    "  <label for=\"effectiveness\">Why You Like It:</label>\n",
    "  <input type=\"text\" id=\"effectiveness\" placeholder=\"Enter why why you like it\">\n",
    "</div>\n",
    "<button onclick=\"submitData()\">Submit</button>\n",
    "\n",
    "<!-- Table to display submitted data -->\n",
    "<table id=\"dataTable\" class=\"tablesorter\">\n",
    "  <thead>\n",
    "    <tr>\n",
    "      <th>Name</th>\n",
    "      <th>Favorite Exercise</th>\n",
    "      <th>Why You Like It</th>\n",
    "    </tr>\n",
    "  </thead>\n",
    "  <tbody></tbody>\n",
    "</table>\n",
    "\n",
    "<script>\n",
    "  // Function to submit the entered data\n",
    "  function submitData() {\n",
    "    const name = document.getElementById('name').value;\n",
    "    const exercise = document.getElementById('exercise').value;\n",
    "    const effectiveness = document.getElementById('effectiveness').value;\n",
    "\n",
    "    // create a new row in the table and append the entered data\n",
    "    const table = document.getElementById('dataTable').getElementsByTagName('tbody')[0];\n",
    "    const newRow = table.insertRow();\n",
    "    const cell1 = newRow.insertCell(0);\n",
    "    const cell2 = newRow.insertCell(1);\n",
    "    const cell3 = newRow.insertCell(2);\n",
    "    cell1.innerHTML = name;\n",
    "    cell2.innerHTML = exercise;\n",
    "    cell3.innerHTML = effectiveness;\n",
    "\n",
    "    // clear the input fields\n",
    "    document.getElementById('name').value = '';\n",
    "    document.getElementById('exercise').value = '';\n",
    "    document.getElementById('effectiveness').value = '';\n",
    "  }\n",
    "</script>"
   ]
  },
  {
   "cell_type": "code",
   "execution_count": 1,
   "metadata": {
    "vscode": {
     "languageId": "javascript"
    }
   },
   "outputs": [
    {
     "data": {
      "text/html": [
       "\n",
       "<html>\n",
       "<head>\n",
       "    <script src=\"https://ajax.googleapis.com/ajax/libs/jquery/3.6.0/jquery.min.js\"></script>\n",
       "    <script src=\"https://cdnjs.cloudflare.com/ajax/libs/jquery.tablesorter/2.31.3/js/jquery.tablesorter.min.js\"></script>\n",
       "    <style>\n",
       "        #outputTable {\n",
       "            background-color: #353b45;\n",
       "            padding: 10px;\n",
       "            border: 3px solid #ccc;\n",
       "            box-shadow: 0.8em 0.4em 0.4em grey;\n",
       "        }\n",
       "    </style>\n",
       "</head>\n",
       "\n",
       "<body>\n",
       "    <table id=\"outputTable\">\n",
       "        <thead>\n",
       "            <tr>\n",
       "                <th>Name</th>\n",
       "                <th>Favorite Physical Activity</th>\n",
       "                <th>Why You Like it</th>\n",
       "            </tr>\n",
       "        </thead>\n",
       "        <tbody>\n",
       "            <tr>\n",
       "                <td><input type=\"text\" id=\"nameInput\"></td>\n",
       "                <td><input type=\"text\" id=\"exerciseInput\"></td>\n",
       "                <td><input type=\"text\" id=\"favoriteInput\"></td>\n",
       "            </tr>\n",
       "        </tbody>\n",
       "    </table>\n",
       "    <br>\n",
       "    <button onclick=\"submitForm()\">Submit</button>\n",
       "</body>\n",
       "</html>\n",
       "\n",
       "<script>\n",
       "function submitForm() {\n",
       "    const name = document.getElementById(\"nameInput\").value;\n",
       "    const exercise = document.getElementById(\"exerciseInput\").value;\n",
       "    const favorite = document.getElementById(\"favoriteInput\").value;\n",
       "\n",
       "    const outputRow = \"<tr><td>\" + name + \"</td><td>\" + exercise + \"</td><td>\" + favorite + \"</td></tr>\";\n",
       "    $(\"#outputTable tbody\").append(outputRow);\n",
       "\n",
       "    // Clear input fields\n",
       "    document.getElementById(\"nameInput\").value = \"\";\n",
       "    document.getElementById(\"exerciseInput\").value = \"\";\n",
       "    document.getElementById(\"favoriteInput\").value = \"\";\n",
       "}\n",
       "</script>\n"
      ],
      "text/plain": [
       "<IPython.core.display.HTML object>"
      ]
     },
     "metadata": {},
     "output_type": "display_data"
    }
   ],
   "source": [
    "%%html\n",
    "\n",
    "<html>\n",
    "<head>\n",
    "    <script src=\"https://ajax.googleapis.com/ajax/libs/jquery/3.6.0/jquery.min.js\"></script>\n",
    "    <script src=\"https://cdnjs.cloudflare.com/ajax/libs/jquery.tablesorter/2.31.3/js/jquery.tablesorter.min.js\"></script>\n",
    "    <style>\n",
    "        #outputTable {\n",
    "            background-color: #353b45;\n",
    "            padding: 10px;\n",
    "            border: 3px solid #ccc;\n",
    "            box-shadow: 0.8em 0.4em 0.4em grey;\n",
    "        }\n",
    "    </style>\n",
    "</head>\n",
    "\n",
    "<body>\n",
    "    <table id=\"outputTable\">\n",
    "        <thead>\n",
    "            <tr>\n",
    "                <th>Name</th>\n",
    "                <th>Favorite Physical Activity</th>\n",
    "                <th>Why You Like it</th>\n",
    "            </tr>\n",
    "        </thead>\n",
    "        <tbody>\n",
    "            <tr>\n",
    "                <td><input type=\"text\" id=\"nameInput\"></td>\n",
    "                <td><input type=\"text\" id=\"exerciseInput\"></td>\n",
    "                <td><input type=\"text\" id=\"favoriteInput\"></td>\n",
    "            </tr>\n",
    "        </tbody>\n",
    "    </table>\n",
    "    <br>\n",
    "    <button onclick=\"submitForm()\">Submit</button>\n",
    "</body>\n",
    "</html>\n",
    "\n",
    "<script>\n",
    "function submitForm() {\n",
    "    const name = document.getElementById(\"nameInput\").value;\n",
    "    const exercise = document.getElementById(\"exerciseInput\").value;\n",
    "    const favorite = document.getElementById(\"favoriteInput\").value;\n",
    "\n",
    "    const outputRow = \"<tr><td>\" + name + \"</td><td>\" + exercise + \"</td><td>\" + favorite + \"</td></tr>\";\n",
    "    $(\"#outputTable tbody\").append(outputRow);\n",
    "\n",
    "    // clear input fields\n",
    "    document.getElementById(\"nameInput\").value = \"\";\n",
    "    document.getElementById(\"exerciseInput\").value = \"\";\n",
    "    document.getElementById(\"favoriteInput\").value = \"\";\n",
    "}\n",
    "</script>\n"
   ]
  },
  {
   "attachments": {},
   "cell_type": "markdown",
   "metadata": {},
   "source": [
    "# Explainations\n",
    "- Here I broke down every major portion of my code and explained it"
   ]
  },
  {
   "attachments": {},
   "cell_type": "markdown",
   "metadata": {},
   "source": [
    "## Overall:\n",
    "- The overall program is a simple web form that allows users to input their name, favorite physical activity, and why they like it.\n",
    "    -  When the user clicks the \"Submit\" button, the submitForm function is called.\n",
    "- Inside the submitForm function, the values entered by the user are retrieved from the input fields using their respective id attributes.\n",
    "    -  These values are stored in the name, exercise, and favorite variables.\n",
    "\n",
    "- A new HTML table rows are constructed by the values from the input fields into an HTML string (outputRow). \n",
    "    - Each value is wrapped in a table data element (<td>). This row represents the user's input data.\n",
    "\n",
    "- Using jQuery, the outputRow is appended to the <tbody> of the table with the id attribute \"outputTable\". \n",
    "    - This means the user's input data will be added as a new row in the table.\n",
    "\n",
    "- After appending the row, the input fields are cleared by setting their values to an empty string.     \n",
    "    - This prepares the form for the next input.\n",
    "\n",
    "- Overall, the program allows users to enter their name, favorite physical activity, and reason for liking it through the input fields. \n",
    "    - When the form is submitted, the data is displayed in a table below the form. The table is dynamically updated as users submit more data."
   ]
  },
  {
   "attachments": {},
   "cell_type": "markdown",
   "metadata": {},
   "source": [
    "## Head and Body"
   ]
  },
  {
   "cell_type": "code",
   "execution_count": null,
   "metadata": {
    "vscode": {
     "languageId": "javascript"
    }
   },
   "outputs": [],
   "source": [
    "<html>\n",
    "<head>\n",
    "    <script src=\"https://ajax.googleapis.com/ajax/libs/jquery/3.6.0/jquery.min.js\"></script>\n",
    "    <script src=\"https://cdnjs.cloudflare.com/ajax/libs/jquery.tablesorter/2.31.3/js/jquery.tablesorter.min.js\"></script>\n",
    "    <style>\n",
    "        #outputTable {\n",
    "            background-color: #353b45;\n",
    "            padding: 10px;\n",
    "            border: 3px solid #ccc;\n",
    "            box-shadow: 0.8em 0.4em 0.4em grey;\n",
    "        }\n",
    "    </style>\n",
    "</head>\n",
    "\n",
    "<body>\n",
    "    ...\n",
    "</body>\n",
    "</html>\n"
   ]
  },
  {
   "attachments": {},
   "cell_type": "markdown",
   "metadata": {},
   "source": [
    "- This part defines the basic structure of an HTML document.\n",
    "     - It includes the head and body sections. In the head section, it includes two external JavaScript files using the script tags. \n",
    "     - These files are hosted on CDNs (Content Delivery Networks). \n",
    "        - The first script is jQuery, a popular JavaScript library, and the second script is the jQuery table sorter plugin. \n",
    "        - Additionally, it defines some CSS styles for the outputTable element."
   ]
  },
  {
   "attachments": {},
   "cell_type": "markdown",
   "metadata": {},
   "source": [
    "# Output table"
   ]
  },
  {
   "cell_type": "code",
   "execution_count": null,
   "metadata": {
    "vscode": {
     "languageId": "javascript"
    }
   },
   "outputs": [],
   "source": [
    "<table id=\"outputTable\">\n",
    "    <thead>\n",
    "        <tr>\n",
    "            <th>Name</th>\n",
    "            <th>Favorite Physical Activity</th>\n",
    "            <th>Why You Like it</th>\n",
    "        </tr>\n",
    "    </thead>\n",
    "    <tbody>\n",
    "        <tr>\n",
    "            <td><input type=\"text\" id=\"nameInput\"></td>\n",
    "            <td><input type=\"text\" id=\"exerciseInput\"></td>\n",
    "            <td><input type=\"text\" id=\"favoriteInput\"></td>\n",
    "        </tr>\n",
    "    </tbody>\n",
    "</table>\n",
    "<br>\n",
    "<button onclick=\"submitForm()\">Submit</button>\n"
   ]
  },
  {
   "attachments": {},
   "cell_type": "markdown",
   "metadata": {},
   "source": [
    "- Within the body section, this code defines a table with the id attribute set to \"outputTable\". \n",
    "    - The table has a header row thead> and a body section tbody. The header row contains three columns: \"Name,\" \"Favorite Physical Activity,\" and \"Why You Like it.\"\n",
    "- Inside the body section, there is a single row tr within the table body\n",
    "    - contains three input fields input wrapped in td (table data) elements. Each input field has a unique id attribute: \"nameInput,\" \"exerciseInput,\" and \"favoriteInput.\"\n",
    "- After the table, there's a line break br and a submit button with the onclick attribute set to \"submitForm()\". \n",
    "    - This means that when the button is clicked, the submitForm function will be called."
   ]
  },
  {
   "attachments": {},
   "cell_type": "markdown",
   "metadata": {},
   "source": [
    "## Submit Form"
   ]
  },
  {
   "cell_type": "code",
   "execution_count": null,
   "metadata": {
    "vscode": {
     "languageId": "javascript"
    }
   },
   "outputs": [],
   "source": [
    "<script>\n",
    "function submitForm() {\n",
    "    const name = document.getElementById(\"nameInput\").value;\n",
    "    const exercise = document.getElementById(\"exerciseInput\").value;\n",
    "    const favorite = document.getElementById(\"favoriteInput\").value;\n",
    "\n",
    "    const outputRow = \"<tr><td>\" + name + \"</td><td>\" + exercise + \"</td><td>\" + favorite + \"</td></tr>\";\n",
    "    $(\"#outputTable tbody\").append(outputRow);\n",
    "\n",
    "    // Clear input fields\n",
    "    document.getElementById(\"nameInput\").value = \"\";\n",
    "    document.getElementById(\"exerciseInput\").value = \"\";\n",
    "    document.getElementById(\"favoriteInput\").value = \"\";\n",
    "}\n",
    "</script>\n"
   ]
  },
  {
   "attachments": {},
   "cell_type": "markdown",
   "metadata": {},
   "source": [
    "- This script defines the submitForm function.\n",
    "    -  When called, it retrieves the values entered in the input fields with the corresponding id attributes:\n",
    "        -  \"nameInput,\" \"exerciseInput,\" \n",
    "        - \"favoriteInput.\" \n",
    "    - These values are stored in the name, exercise, and favorite."
   ]
  }
 ],
 "metadata": {
  "kernelspec": {
   "display_name": "base",
   "language": "python",
   "name": "python3"
  },
  "language_info": {
   "codemirror_mode": {
    "name": "ipython",
    "version": 3
   },
   "file_extension": ".py",
   "mimetype": "text/x-python",
   "name": "python",
   "nbconvert_exporter": "python",
   "pygments_lexer": "ipython3",
   "version": "3.9.12"
  },
  "orig_nbformat": 4
 },
 "nbformat": 4,
 "nbformat_minor": 2
}
