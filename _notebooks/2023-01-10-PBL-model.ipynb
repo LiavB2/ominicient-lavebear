{
 "cells": [
  {
   "attachments": {},
   "cell_type": "markdown",
   "metadata": {},
   "source": [
    "# Model and Object-Oriented Programming Notes and Hacks\n",
    "> Object Oriented Programming is a part of learning Python.  The objective of this blog is to introduce OOP with the intention of PBL task to create a database.  The foundations for a database is defining a Class and understanding instance data and methods.  A database is often a focus of backend coding as it will store persistent data, that can be recalled after the immediate session is closed.\n",
    "\n",
    "- title: Model and Object-Oriented Programming\n",
    "- toc: true\n",
    "- categories: [notes]\n",
    "- image: /images/python.png\n",
    "- type: pbl\n",
    "- week: 18"
   ]
  },
  {
   "attachments": {},
   "cell_type": "markdown",
   "metadata": {},
   "source": [
    "## Class and Object Terms\n",
    "> The foundations of Object-Oriented Programming is defining a ***Class***  \n",
    "* In Object-Oriented Programming (OOP), a class is a blueprint for creating an ***Object***. (a data structure).  An Object is used like many other Python variables.\n",
    "* A Class has ...\n",
    "    * a collection of data, these are called ***Attributes*** and in Python are pre-fixed using the keyword ***self***\n",
    "    * a collection of Functions/Procedures.  These are called ***Methods** when they exist inside a Class definition.\n",
    "* An Object is created from the Class/Template.  Characteristics of objects ...\n",
    "   * an Object is an ***Instance*** of the Class/Template\n",
    "   * there can be many Objects created from the same Class\n",
    "   * each Object contains its own ***Instance Data***\n",
    "   * the data is setup by the ***Constructor***, this is the \"__init__\" method in a Python class\n",
    "   * all methods in the Class/Template become part of the Object, methods are accessed using ***dot notation*** (object.method())\n",
    "* A Python Class allow for the definition of @ decorators, these allow access to instance data without the use of functions ...\n",
    "    * @property decorator (aka getter).  This enables developers to reference/get instance data in a shorthand fashion (object.name versus object.get_name())\n",
    "    * @name.setter decorator (aka setter).  This enables developers to update/set instance data in a shorthand fashion (object.name = \"John\" versus object.set_name(\"John\"))\n",
    "    * observe all instance data (self._name, self._email ...) are prefixed with \"_\", this convention allows setters and getters to work with more natural variable name (name, email ...)"
   ]
  },
  {
   "cell_type": "markdown",
   "metadata": {},
   "source": [
    "## Class and Object Code"
   ]
  },
  {
   "cell_type": "code",
   "execution_count": 1,
   "metadata": {},
   "outputs": [
    {
     "name": "stdout",
     "output_type": "stream",
     "text": [
      "Test 1, find user 3\n",
      "name: \"Thomas Edison\", id: \"toby\", psw: \"sha256$9il...\"\n",
      "name: \"Nicholas Tesla\", id: \"nick\", psw: \"sha256$Kxo...\"\n",
      "* name: \"Alexander Graham Bell\", id: \"lex\", psw: \"sha256$WYB...\"\n",
      "name: \"Eli Whitney\", id: \"eli\", psw: \"sha256$lII...\"\n",
      "name: \"Hedy Lemarr\", id: \"hedy\", psw: \"sha256$b0T...\"\n",
      "Test 2, change user 3\n",
      "name: \"Thomas Edison\", id: \"toby\", psw: \"sha256$9il...\"\n",
      "name: \"Nicholas Tesla\", id: \"nick\", psw: \"sha256$Kxo...\"\n",
      "* name: \"John Mortensen\", id: \"jm1021\", psw: \"sha256$hX0...\"\n",
      "name: \"Eli Whitney\", id: \"eli\", psw: \"sha256$lII...\"\n",
      "name: \"Hedy Lemarr\", id: \"hedy\", psw: \"sha256$b0T...\"\n",
      "Test 3, make a dictionary\n",
      "[{\"_name\": \"Thomas Edison\", \"_uid\": \"toby\", \"_password\": \"sha256$9ileI9GkFO3U4krR$f839e8cedcdf970e7e6080b2f0ce8cc45d002e54056ce0b1c6366ddfb2804c4a\"}, {\"_name\": \"Nicholas Tesla\", \"_uid\": \"nick\", \"_password\": \"sha256$KxoSE02jaNyn8qEU$1734075e8f9a6fcc7c3df1ab987c11d2ccbeea4a87a0cfc886215c692a779d04\"}, {\"_name\": \"John Mortensen\", \"_uid\": \"jm1021\", \"_password\": \"sha256$hX0KUszOKQEObGeU$ff45553cf55319843e2259cbba8d6cae496e54bdce64c187493d0062645d41f4\"}, {\"_name\": \"Eli Whitney\", \"_uid\": \"eli\", \"_password\": \"sha256$lII4sLsyO9owjs5B$d5b4017a331fa50f1a5010689c51fcf6e22f9dd1a70311dd403b533724783c89\"}, {\"_name\": \"Hedy Lemarr\", \"_uid\": \"hedy\", \"_password\": \"sha256$b0TRHRCqiYeH0ptN$94e24683bf428e4f8ba9fc6dd4512caa430fc81543564956737726fd407e13a8\"}]\n",
      "Test 4, make a dictionary\n",
      "[{\"_name\": \"Thomas Edison\", \"_uid\": \"toby\", \"_password\": \"sha256$9ileI9GkFO3U4krR$f839e8cedcdf970e7e6080b2f0ce8cc45d002e54056ce0b1c6366ddfb2804c4a\"}, {\"_name\": \"Nicholas Tesla\", \"_uid\": \"nick\", \"_password\": \"sha256$KxoSE02jaNyn8qEU$1734075e8f9a6fcc7c3df1ab987c11d2ccbeea4a87a0cfc886215c692a779d04\"}, {\"_name\": \"John Mortensen\", \"_uid\": \"jm1021\", \"_password\": \"sha256$hX0KUszOKQEObGeU$ff45553cf55319843e2259cbba8d6cae496e54bdce64c187493d0062645d41f4\"}, {\"_name\": \"Eli Whitney\", \"_uid\": \"eli\", \"_password\": \"sha256$lII4sLsyO9owjs5B$d5b4017a331fa50f1a5010689c51fcf6e22f9dd1a70311dd403b533724783c89\"}, {\"_name\": \"Hedy Lemarr\", \"_uid\": \"hedy\", \"_password\": \"sha256$b0TRHRCqiYeH0ptN$94e24683bf428e4f8ba9fc6dd4512caa430fc81543564956737726fd407e13a8\"}]\n"
     ]
    }
   ],
   "source": [
    "#\n",
    "# Werkzeug is a collection of libraries that can be used to create a WSGI (Web Server Gateway Interface)\n",
    "# A gateway in necessary as a web server cannot communicate directly with Python.\n",
    "# In this case, imports are focused on generating hash code to protect passwords.\n",
    "from werkzeug.security import generate_password_hash, check_password_hash\n",
    "import json\n",
    "\n",
    "# Define a User Class/Template\n",
    "# -- A User represents the data we want to manage\n",
    "class User:    \n",
    "    # constructor of a User object, initializes the instance variables within object (self)\n",
    "    def __init__(self, name, uid, password):\n",
    "        self._name = name    # variables with self prefix become part of the object, \n",
    "        self._uid = uid\n",
    "        self.set_password(password)\n",
    "\n",
    "    # a name getter method, extracts name from object\n",
    "    @property\n",
    "    def name(self):\n",
    "        return self._name\n",
    "    \n",
    "    # a setter function, allows name to be updated after initial object creation\n",
    "    @name.setter\n",
    "    def name(self, name):\n",
    "        self._name = name\n",
    "    \n",
    "    # a getter method, extracts email from object\n",
    "    @property\n",
    "    def uid(self):\n",
    "        return self._uid\n",
    "    \n",
    "    # a setter function, allows name to be updated after initial object creation\n",
    "    @uid.setter\n",
    "    def uid(self, uid):\n",
    "        self._uid = uid\n",
    "        \n",
    "    # check if uid parameter matches user id in object, return boolean\n",
    "    def is_uid(self, uid):\n",
    "        return self._uid == uid\n",
    "    \n",
    "    @property\n",
    "    def password(self):\n",
    "        return self._password[0:10] + \"...\" # because of security only show 1st characters\n",
    "\n",
    "    # update password, this is conventional setter\n",
    "    def set_password(self, password):\n",
    "        \"\"\"Create a hashed password.\"\"\"\n",
    "        self._password = generate_password_hash(password, method='sha256')\n",
    "\n",
    "    # check password parameter versus stored/encrypted password\n",
    "    def is_password(self, password):\n",
    "        \"\"\"Check against hashed password.\"\"\"\n",
    "        result = check_password_hash(self._password, password)\n",
    "        return result\n",
    "    \n",
    "    # output content using str(object) in human readable form, uses getter\n",
    "    def __str__(self):\n",
    "        return f'name: \"{self.name}\", id: \"{self.uid}\", psw: \"{self.password}\"'\n",
    "\n",
    "    # output command to recreate the object, uses attribute directly\n",
    "    def __repr__(self):\n",
    "        return f'Person(name={self._name}, uid={self._uid}, password={self._password})'\n",
    "\n",
    "\n",
    "# tester method to print users\n",
    "def tester(users, uid, psw):\n",
    "    result = None\n",
    "    for user in users:\n",
    "        # test for match in database\n",
    "        if user.uid == uid and user.is_password(psw):  # check for match\n",
    "            print(\"* \", end=\"\")\n",
    "            result = user\n",
    "        # print using __str__ method\n",
    "        print(str(user))\n",
    "    return result\n",
    "        \n",
    "\n",
    "# place tester code inside of special if!  This allows include without tester running\n",
    "if __name__ == \"__main__\":\n",
    "\n",
    "    # define user objects\n",
    "    u1 = User(name='Thomas Edison', uid='toby', password='123toby')\n",
    "    u2 = User(name='Nicholas Tesla', uid='nick', password='123nick')\n",
    "    u3 = User(name='Alexander Graham Bell', uid='lex', password='123lex')\n",
    "    u4 = User(name='Eli Whitney', uid='eli', password='123eli')\n",
    "    u5 = User(name='Hedy Lemarr', uid='hedy', password='123hedy')\n",
    "\n",
    "    # put user objects in list for convenience\n",
    "    users = [u1, u2, u3, u4, u5]\n",
    "\n",
    "    # Find user\n",
    "    print(\"Test 1, find user 3\")\n",
    "    u = tester(users, u3.uid, \"123lex\")\n",
    "\n",
    "\n",
    "    # Change user\n",
    "    print(\"Test 2, change user 3\")\n",
    "    u.name = \"John Mortensen\"\n",
    "    u.uid = \"jm1021\"\n",
    "    u.set_password(\"123qwerty\")\n",
    "    u = tester(users, u.uid, \"123qwerty\")\n",
    "\n",
    "\n",
    "    # Make dictionary\n",
    "    ''' \n",
    "    The __dict__ in Python represents a dictionary or any mapping object that is used to store the attributes of the object. \n",
    "    Every object in Python has an attribute that is denoted by __dict__. \n",
    "    Use the json.dumps() method to convert the list of Users to a JSON string.\n",
    "    '''\n",
    "    print(\"Test 3, make a dictionary\")\n",
    "    json_string = json.dumps([user.__dict__ for user in users]) \n",
    "    print(json_string)\n",
    "\n",
    "    print(\"Test 4, make a dictionary\")\n",
    "    json_string = json.dumps([vars(user) for user in users]) \n",
    "    print(json_string)"
   ]
  },
  {
   "attachments": {},
   "cell_type": "markdown",
   "metadata": {},
   "source": [
    "## Hacks\n",
    "> Add new attributes/variables to the Class.  Make class specific to your CPT work.\n",
    "- Add classOf attribute to define year of graduation\n",
    "    - Add setter and getter for classOf\n",
    "- Add dob attribute to define date of birth\n",
    "    - This will require investigation into Python datetime objects as shown in example code below\n",
    "    - Add setter and getter for dob\n",
    "- Add instance variable for age, make sure if dob changes age changes\n",
    "    - Add getter for age, but don't add/allow setter for age\n",
    "- Update and format tester function to work with changes\n",
    "\n",
    "> Start a class design for each of your own Full Stack CPT sections of your project\n",
    "- Use new `code cell` in this notebook\n",
    "- Define _init_ and self attributes\n",
    "- Define setters and getters\n",
    "- Make a tester"
   ]
  },
  {
   "cell_type": "markdown",
   "metadata": {},
   "source": [
    "## Start Code for Hacks"
   ]
  },
  {
   "cell_type": "code",
   "execution_count": 5,
   "metadata": {},
   "outputs": [
    {
     "name": "stdout",
     "output_type": "stream",
     "text": [
      "18\n"
     ]
    }
   ],
   "source": [
    "from datetime import date\n",
    "\n",
    "def calculate_age(born):\n",
    "    today = date.today()\n",
    "    return today.year - born.year - ((today.month, today.day) < (born.month, born.day))\n",
    "dob = date(2004, 12, 31)\n",
    "age = calculate_age(dob)\n",
    "print(age)\n",
    "\n"
   ]
  },
  {
   "attachments": {},
   "cell_type": "markdown",
   "metadata": {},
   "source": [
    "# My Class Code "
   ]
  },
  {
   "cell_type": "code",
   "execution_count": 16,
   "metadata": {},
   "outputs": [
    {
     "name": "stdout",
     "output_type": "stream",
     "text": [
      "Student 1 Date of Birth:  1998-01-17\n",
      "Student 2 Date of Birth:  2006-01-15\n",
      "Student 1 is Class of 2015\n",
      "Student 2 is Class of 2024\n",
      "Student 1 Age is 25\n",
      "Student 2 Age is 17\n"
     ]
    }
   ],
   "source": [
    "\n",
    "\n",
    "from datetime import date, timedelta \n",
    "from datetime import datetime\n",
    "\n",
    "class Student:\n",
    "    # Constructor:\n",
    "    def __init__(self, current_grade, age: int):\n",
    "        self.age = age\n",
    "        self.date_of_birth = (date.today() - timedelta(days=(365 * age))).isoformat()\n",
    "        \n",
    "        current_year = datetime.now().year\n",
    "        self.current_grade = current_grade\n",
    "        self.graduation_year = current_year + (12 - current_grade)\n",
    "    # Getters:\n",
    "    def getDOB(self):\n",
    "        return self.date_of_birth\n",
    "    \n",
    "    def getClassOf(self):\n",
    "        return self.graduation_year\n",
    "\n",
    "    def getAge(self):\n",
    "        return self.age\n",
    "\n",
    "    # Setters    \n",
    "    def setDOB(self,DOB):\n",
    "        self.date_of_birth = DOB\n",
    "\n",
    "    def setClassOf(self, ClassOf):\n",
    "        self.ClassOf = ClassOf\n",
    "\n",
    "    def setAge(self, Age):\n",
    "        self.Age = Age\n",
    "\n",
    "student1 = Student(20, 25)\n",
    "student2 = Student(11, 17)\n",
    "print(\"Student 1 Date of Birth: \", student1.getDOB())\n",
    "print(\"Student 2 Date of Birth: \", student2.getDOB())\n",
    "print(\"Student 1 is Class of\", student1.getClassOf())\n",
    "print(\"Student 2 is Class of\", student2.getClassOf())\n",
    "print(\"Student 1 Age is\", student1.getAge())\n",
    "print(\"Student 2 Age is\", student2.getAge())"
   ]
  },
  {
   "attachments": {},
   "cell_type": "markdown",
   "metadata": {},
   "source": [
    "# Graduation Year Attribute"
   ]
  },
  {
   "cell_type": "code",
   "execution_count": 2,
   "metadata": {},
   "outputs": [
    {
     "name": "stdout",
     "output_type": "stream",
     "text": [
      "Class of 2024\n"
     ]
    }
   ],
   "source": [
    "# My grad year code\n",
    "\n",
    "from datetime import datetime\n",
    "\n",
    "class Student:\n",
    "    # Setter: \n",
    "    def __init__(self, current_grade: int):\n",
    "        current_year = datetime.now().year\n",
    "        self.current_grade = current_grade\n",
    "        self.graduation_year = current_year + (12 - current_grade)\n",
    "    # Getter\n",
    "    def getClassOf(self):\n",
    "        return self.graduation_year\n",
    "\n",
    "student = Student(11)\n",
    "print(\"Class of\", student.getClassOf())\n"
   ]
  },
  {
   "attachments": {},
   "cell_type": "markdown",
   "metadata": {},
   "source": [
    "# Init attribute\n",
    "- \"init\" is short for initialization\n",
    "    - the process of setting up the environment or initial state of a program or system before it begins to execute.\n",
    "    - In object-oriented programming, it often refers to the constructor method of a class, which is called when a new instance of the class is created, and is responsible for setting up the initial state of the object. \n",
    "    - In other contexts, an \"init\" function or script is used to set up a specific environment or configuration for a program to run.\n",
    "\n",
    "# Self Attribute\n",
    "- When a method is called on an object, the first argument passed to the method is the object itself. \n",
    "    - The convention in Python (and many other programming languages) is to use the name **self** to refer to this object\n",
    "\n",
    "# Setter\n",
    "-  a method that is used to set the value of a property or variable of an object.\n",
    "    - It's often used in conjunction with a \"getter\" method, which is used to retrieve the value of the property or variable. \n",
    "    - The setter method typically takes a single argument, which is the new value to be assigned to the property or variable. \n",
    "        - may also include additional logic, such as validation or other processing that should be performed when the value of the property or variable is changed\n",
    "\n",
    "# Getter\n",
    "-  a method that is used to retrieve the value of a property or variable of an object. \n",
    "    - It's often used in conjunction with a \"setter\" method, which is used to set the value of the property or variable. \n",
    "    - typically takes no arguments and returns the current value of the property or variable. \n",
    "    - It's often used to provide read access to the internal state of an object, while keeping the internal state hidden from the outside world\n",
    "    - Getters and Setters are also called accessors and mutators respectively.\n",
    "\n",
    "# Tester\n",
    "- A tester method in programming is a specific test case that is written to test a specific method or function of a software. \n",
    "- It is used to check that a specific functionality of the software behaves as expected\n",
    "    - and that it meets the requirements and specifications defined in the design phase.\n",
    "\n",
    "## Tester example code:\n"
   ]
  },
  {
   "cell_type": "code",
   "execution_count": null,
   "metadata": {},
   "outputs": [],
   "source": [
    "import unittest\n",
    "\n",
    "class MyClass:\n",
    "    def my_method(self, a, b):\n",
    "        return a * b\n",
    "\n",
    "class TestMyClass(unittest.TestCase):\n",
    "    def setUp(self):\n",
    "        self.my_object = MyClass()\n",
    "\n",
    "    def test_my_method(self):\n",
    "        result = self.my_object.my_method(2, 5)\n",
    "        self.assertEqual(result, 10)\n",
    "\n",
    "    def test_my_method_negative(self):\n",
    "        result = self.my_object.my_method(-2, -5)\n",
    "        self.assertEqual(result, 10)\n",
    "\n",
    "if __name__ == '__main__':\n",
    "    unittest.main()\n"
   ]
  },
  {
   "attachments": {},
   "cell_type": "markdown",
   "metadata": {},
   "source": [
    "- In this example, MyClass is a simple class with a single method my_method(a,b) that takes two numbers as input and returns their product.\n",
    "- TestMyClass is a test case class provided by unittest library and it has 2 test functions test_my_method and test_my_method_negative.\n",
    "- setUp() function is called before each test function, it create an instance of MyClass so that we can use it in test functions.\n",
    "- test_my_method() tests the my_method() function of the MyClass class with the input 2,5, it is expected to get the output of 10, so the assertion assertEqual(result, 10) is comparing the result with the expected output.\n",
    "- test_my_method_negative() is testing the same method with the negative inputs and it is also expecting the result to be 10 by using the same assertion.\n"
   ]
  }
 ],
 "metadata": {
  "kernelspec": {
   "display_name": "base",
   "language": "python",
   "name": "python3"
  },
  "language_info": {
   "codemirror_mode": {
    "name": "ipython",
    "version": 3
   },
   "file_extension": ".py",
   "mimetype": "text/x-python",
   "name": "python",
   "nbconvert_exporter": "python",
   "pygments_lexer": "ipython3",
   "version": "3.9.12"
  },
  "orig_nbformat": 4,
  "vscode": {
   "interpreter": {
    "hash": "b855838ac52a58d7b74572dc8f7014b4acf313ddbe03509d0adf6f509b1dfd58"
   }
  }
 },
 "nbformat": 4,
 "nbformat_minor": 2
}
