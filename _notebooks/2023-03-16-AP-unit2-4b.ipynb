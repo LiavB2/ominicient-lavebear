{
 "cells": [
  {
   "attachments": {},
   "cell_type": "markdown",
   "metadata": {},
   "source": [
    "#  Unit 2.4b Using Programs with Data, SQL (Notebook FOR NOTES)\n",
    "> Using Programs with Data is focused on SQL and database actions.  Part B focuses on learning SQL commands, connections, and curses using an Imperative programming style,\n",
    "- toc: true\n",
    "- image: /images/python.png\n",
    "- categories: [Notes]\n",
    "- type: ap\n",
    "- week: 26"
   ]
  },
  {
   "attachments": {},
   "cell_type": "markdown",
   "metadata": {},
   "source": [
    "# Database Programming is Program with Data\n",
    "> Each Tri 2 Final Project should be an example of a Program with Data. \n",
    "\n",
    ">  Prepare to use SQLite in common Imperative Technique\n",
    "- Explore [SQLite Connect object](https://www.tutorialspoint.com/python_data_access/python_sqlite_establishing_connection.htm) to establish database connection\n",
    "- Explore [SQLite Cursor Object](https://www.tutorialspoint.com/python_data_access/python_sqlite_cursor_object.htm) to fetch data from a table within a database\n"
   ]
  },
  {
   "attachments": {},
   "cell_type": "markdown",
   "metadata": {},
   "source": [
    "## Schema of Users table in Sqlite.db\n",
    "> Uses PRAGMA statement to read schema.\n",
    "\n",
    "Describe Schema, here is resource [Resource](https://www.sqlite.org/index.html)\n",
    "- What is a database schema?\n",
    "    - A database schema is the blueprint or structure of a database. It defines how data is organized and how tables, fields, and relationships are designed within the database. A database schema includes the tables, columns, constraints, relationships, and other elements that define the structure of the database.\n",
    "- What is the purpose of identity Column in SQL database?\n",
    "    - An identity column in SQL database is a column that automatically generates a unique numeric value for each row that is added to a table. It is used to uniquely identify each row in the table and can be used as a primary key. Identity columns are often used in conjunction with auto-incrementing values.\n",
    "- What is the purpose of a primary key in SQL database?\n",
    "    - The purpose of a primary key in SQL database is to uniquely identify each row in a table. A primary key is a column or set of columns that have a unique value for each row in the table. It is used to enforce data integrity and to create relationships between tables. A primary key can be used to join tables together and to ensure that each row in a table can be uniquely identified.\n",
    "- What are the Data Types in SQL table?\n",
    "    - Numeric data types: INT, FLOAT, DECIMAL, etc.\n",
    "    - Character and string data types: CHAR, VARCHAR, TEXT, etc.\n",
    "    - Date and time data types: DATE, TIME, DATETIME, TIMESTAMP, etc.\n",
    "    - Binary data types: BLOB, BINARY, VARBINARY, etc.\n",
    "    - Other data types: BOOLEAN, ENUM, SET, JSON, XML, etc.\n",
    "    - The specific data types available in SQL may vary depending on the database management system being used."
   ]
  },
  {
   "cell_type": "code",
   "execution_count": 2,
   "metadata": {},
   "outputs": [
    {
     "name": "stdout",
     "output_type": "stream",
     "text": [
      "(0, 'id', 'INTEGER', 1, None, 1)\n",
      "(1, '_name', 'VARCHAR(255)', 1, None, 0)\n",
      "(2, '_uid', 'VARCHAR(255)', 1, None, 0)\n",
      "(3, '_password', 'VARCHAR(255)', 1, None, 0)\n",
      "(4, '_dob', 'DATE', 0, None, 0)\n"
     ]
    }
   ],
   "source": [
    "import sqlite3\n",
    "\n",
    "database = 'instance/sqlite.db' # this is location of database\n",
    "\n",
    "def schema():\n",
    "    \n",
    "    # Connect to the database file\n",
    "    conn = sqlite3.connect(database)\n",
    "\n",
    "    # Create a cursor object to execute SQL queries\n",
    "    cursor = conn.cursor()\n",
    "    \n",
    "    # Fetch results of Schema\n",
    "    results = cursor.execute(\"PRAGMA table_info('users')\").fetchall()\n",
    "\n",
    "    # Print the results\n",
    "    for row in results:\n",
    "        print(row)\n",
    "\n",
    "    # Close the database connection\n",
    "    conn.close()\n",
    "    \n",
    "schema()\n"
   ]
  },
  {
   "attachments": {},
   "cell_type": "markdown",
   "metadata": {},
   "source": [
    "## Reading Users table in Sqlite.db\n",
    "> Uses SQL SELECT statement to read data\n",
    "- Schema is the Metadata for the databse\n",
    "- What is a connection object?  After you google it, what do you think it does?\n",
    "    - This conn is an object that has variables and functions. \n",
    "    - I think that this connection instantiates an obkect in order to connect our databse to a variable.\n",
    "    - We connect to the database using SQLite3.connect\n",
    "- Same for cursor object?\n",
    "    - Attributes in the object include\n",
    "- Look at conn object and cursor object in VSCode debugger.  What attributes are in the object?\n",
    "- Is \"results\" an object?  How do you know?"
   ]
  },
  {
   "cell_type": "code",
   "execution_count": 10,
   "metadata": {},
   "outputs": [
    {
     "name": "stdout",
     "output_type": "stream",
     "text": [
      "(1, 'Thomas Edison', 'toby', 'sha256$z8JBP2pU25i597RO$217ec7f4593df3b5aaa184f58bb65dc080cdd1cb977c60455f92c307a18970fe', '1847-02-11')\n",
      "(2, 'Nikola Tesla', 'niko', 'sha256$8DMUyZfuXnzIQJeJ$87ab31383e3733f7b13da8266b0f1d7b36fb0af6869718cab68493512490abcf', '2023-03-15')\n",
      "(3, 'Alexander Graham Bell', 'lex', 'sha256$3mD0XNHjHB9M2C51$d03ecd111724922b57f89006d586f6972279a76a17b803337230563ea45b6828', '2023-03-15')\n",
      "(4, 'Eli Whitney', 'whit', 'sha256$xOCEamJvuHizbbxU$4c0f6f0391dc28cf820864f4de4382ffb3b6cb41f6cc09f044b8cab7f2a9e0a3', '2023-03-15')\n",
      "(5, 'Indiana Jones', 'indi', 'sha256$mjRhVRtaxg9CT6IR$0269c149d4ca6bbcc49f3989b8d2f47b4cd28f44e6ae747cb42c01f2699b7f44', '1920-10-21')\n",
      "(6, 'Marion Ravenwood', 'raven', 'sha256$8rf6nuMMzmIolZ31$c642d4e35f95c72e61fd558c5b95ea0c7b7203c3a112eeaa14d84195242fb588', '1921-10-21')\n",
      "(7, 'Liav B', 'LaveBear2', 'SuperMort34', '2006-08-09')\n"
     ]
    }
   ],
   "source": [
    "import sqlite3\n",
    "\n",
    "def read():\n",
    "    # Connect to the database file\n",
    "    conn = sqlite3.connect(database)\n",
    "\n",
    "    # Create a cursor object to execute SQL queries\n",
    "    cursor = conn.cursor()\n",
    "    \n",
    "    # Execute a SELECT statement to retrieve data from a table\n",
    "    results = cursor.execute('SELECT * FROM users').fetchall()\n",
    "\n",
    "    # Print the results\n",
    "    if len(results) == 0:\n",
    "        print(\"Table is empty\")\n",
    "    else:\n",
    "        for row in results:\n",
    "            print(row)\n",
    "\n",
    "    # Close the cursor and connection objects\n",
    "    cursor.close()\n",
    "    conn.close()\n",
    "    \n",
    "read()\n"
   ]
  },
  {
   "attachments": {},
   "cell_type": "markdown",
   "metadata": {},
   "source": [
    "## Create a new User in table in Sqlite.db\n",
    "> Uses SQL INSERT to add row\n",
    "-  Compore create() in both SQL lessons.  What is better or worse in the two implementations?\n",
    "    - The code for this create is much shorter. It requires the conn and cursor objects to be opened and closed. The cursor must execute a code which takes all of the variables and adds it to the table.\n",
    "-  Explain purpose of SQL INSERT.   Is this the same as User __init__?\n",
    "    - SQL INSERT allows rows to be added to an SQL database table. The User init function allows a dataset which is defined to be able to added to an SQL database. This serves a similar purpose."
   ]
  },
  {
   "cell_type": "code",
   "execution_count": 11,
   "metadata": {},
   "outputs": [],
   "source": [
    "import sqlite3\n",
    "\n",
    "def create():\n",
    "    name = input(\"Enter your name:\")\n",
    "    uid = input(\"Enter your user id:\")\n",
    "    password = input(\"Enter your password\")\n",
    "    dob = input(\"Enter your date of birth 'YYYY-MM-DD'\")\n",
    "    \n",
    "    # Connect to the database file\n",
    "    conn = sqlite3.connect(database)\n",
    "\n",
    "    # Create a cursor object to execute SQL commands\n",
    "    cursor = conn.cursor()\n",
    "\n",
    "    try:\n",
    "        # Execute an SQL command to insert data into a table\n",
    "        cursor.execute(\"INSERT INTO users (_name, _uid, _password, _dob) VALUES (?, ?, ?, ?)\", (name, uid, password, dob))\n",
    "        \n",
    "        # Commit the changes to the database\n",
    "        conn.commit()\n",
    "        print(f\"A new user record {uid} has been created\")\n",
    "                \n",
    "    except sqlite3.Error as error:\n",
    "        print(\"Error while executing the INSERT:\", error)\n",
    "\n",
    "\n",
    "    # Close the cursor and connection objects\n",
    "    cursor.close()\n",
    "    conn.close()\n",
    "    \n",
    "#create()"
   ]
  },
  {
   "attachments": {},
   "cell_type": "markdown",
   "metadata": {},
   "source": [
    "## Updating a User in table in Sqlite.db\n",
    "> Uses SQL UPDATE to modify password\n",
    "- What does the hacked part do?\n",
    "    - The hacked part of the update function outputs a message to the user if the length of the password is too short. This serves as authentication for the user to make sure that a password is long enough for security purposes.\n",
    "- Explain try/except, when would except occur?\n",
    "    - Try and except work as things which check if certain code is running/working. Try runs if the code is working smoothly, and in this case serves to update the password. Except occurs if there is an error with the connection and cursor with the database. This serves as a good way to check errors if there is something wrong with the code.\n",
    "- What code seems to be repeated in each of these examples to point, why is it repeated?\n",
    "    - Code that seems to be repeated include import sqlite3, defining the conn and cursor methods, cursor execute, conn.commit(), and conn and cursor close. This code seems to be repeated because it is required to connect and use the cursor method in the database. cursor.execute() seems to run the wanted code, whether it is update, delete, read, etc. conn.commit() appears that it commits the changes to the database in order to make the changes permanent. The closing of cursor and conn appears to be present because it is important be able to close the working connections and cursors in order to be able to have different ones. This is especially important when working with servers because it makes sure to have orderly code and prevents resources from being used unnecessarily."
   ]
  },
  {
   "cell_type": "code",
   "execution_count": 7,
   "metadata": {},
   "outputs": [],
   "source": [
    "import sqlite3\n",
    "\n",
    "def update():\n",
    "    uid = input(\"Enter user id to update\")\n",
    "    password = input(\"Enter updated password\")\n",
    "    if len(password) < 2:\n",
    "        message = \"hacked\"\n",
    "        password = 'gothackednewpassword123'\n",
    "    else:\n",
    "        message = \"successfully updated\"\n",
    "\n",
    "    # Connect to the database file\n",
    "    conn = sqlite3.connect(database)\n",
    "\n",
    "    # Create a cursor object to execute SQL commands\n",
    "    cursor = conn.cursor()\n",
    "\n",
    "    try:\n",
    "        # Execute an SQL command to update data in a table\n",
    "        cursor.execute(\"UPDATE users SET _password = ? WHERE _uid = ?\", (password, uid))\n",
    "        if cursor.rowcount == 0:\n",
    "            # The uid was not found in the table\n",
    "            print(f\"No uid {uid} was not found in the table\")\n",
    "        else:\n",
    "            print(f\"The row with user id {uid} the password has been {message}\")\n",
    "            conn.commit()\n",
    "    except sqlite3.Error as error:\n",
    "        print(\"Error while executing the UPDATE:\", error)\n",
    "        \n",
    "    \n",
    "    # Close the cursor and connection objects\n",
    "    cursor.close()\n",
    "    conn.close()\n",
    "    \n",
    "#update()\n"
   ]
  },
  {
   "attachments": {},
   "cell_type": "markdown",
   "metadata": {},
   "source": [
    "## Delete a User in table in Sqlite.db\n",
    "> Uses a delete function to remove a user based on a user input of the id.\n",
    "- Is DELETE a dangerous operation?  Why?\n",
    "    - DELETE can be a dangerous operation because it can remove information from the database, and if placed in the wrong hands, they could delete important information by accident. However, delete is also necessary in order to maintain a clean database with proper records.\n",
    "- In the print statemements, what is the \"f\" and what does {uid} do?\n",
    "    - In the print statements, the \"f\" and {uid} allow the coder to include the selected uid without having to add multiple strings in the print statement. It allows for easy replacement and making a statement which uses the variable which the user called for."
   ]
  },
  {
   "cell_type": "code",
   "execution_count": 8,
   "metadata": {},
   "outputs": [],
   "source": [
    "import sqlite3\n",
    "\n",
    "def delete():\n",
    "    uid = input(\"Enter user id to delete\")\n",
    "\n",
    "    # Connect to the database file\n",
    "    conn = sqlite3.connect(database)\n",
    "\n",
    "    # Create a cursor object to execute SQL commands\n",
    "    cursor = conn.cursor()\n",
    "    \n",
    "    try:\n",
    "        cursor.execute(\"DELETE FROM users WHERE _uid = ?\", (uid,))\n",
    "        if cursor.rowcount == 0:\n",
    "            # The uid was not found in the table\n",
    "            print(f\"No uid {uid} was not found in the table\")\n",
    "        else:\n",
    "            # The uid was found in the table and the row was deleted\n",
    "            print(f\"The row with uid {uid} was successfully deleted\")\n",
    "        conn.commit()\n",
    "    except sqlite3.Error as error:\n",
    "        print(\"Error while executing the DELETE:\", error)\n",
    "        \n",
    "    # Close the cursor and connection objects\n",
    "    cursor.close()\n",
    "    conn.close()\n",
    "    \n",
    "#delete()"
   ]
  },
  {
   "attachments": {},
   "cell_type": "markdown",
   "metadata": {},
   "source": [
    "# Menu Interface to CRUD operations\n",
    "> CRUD and Schema interactions from one location by running menu. Observe input at the top of VSCode, observe output underneath code cell.\n",
    "- Why does the menu repeat?\n",
    "    - The menu repeats so the user has access to the functions multiple times if they want, instead of having to restart the code cell every time they want to try a new function.\n",
    "- Could you refactor this menu?  Make it work with a List?\n",
    "    - This menu could be refactored, to reduce the number of elif statements had. Refactoring allows the code to be cleaned up and become more organized. The menu could be held in a list or dictionary and based on the output, the specific function would occur.\n"
   ]
  },
  {
   "cell_type": "code",
   "execution_count": 12,
   "metadata": {},
   "outputs": [
    {
     "name": "stdout",
     "output_type": "stream",
     "text": [
      "(1, 'Thomas Edison', 'toby', 'sha256$z8JBP2pU25i597RO$217ec7f4593df3b5aaa184f58bb65dc080cdd1cb977c60455f92c307a18970fe', '1847-02-11')\n",
      "(2, 'Nikola Tesla', 'niko', 'sha256$8DMUyZfuXnzIQJeJ$87ab31383e3733f7b13da8266b0f1d7b36fb0af6869718cab68493512490abcf', '2023-03-15')\n",
      "(3, 'Alexander Graham Bell', 'lex', 'sha256$3mD0XNHjHB9M2C51$d03ecd111724922b57f89006d586f6972279a76a17b803337230563ea45b6828', '2023-03-15')\n",
      "(4, 'Eli Whitney', 'whit', 'sha256$xOCEamJvuHizbbxU$4c0f6f0391dc28cf820864f4de4382ffb3b6cb41f6cc09f044b8cab7f2a9e0a3', '2023-03-15')\n",
      "(5, 'Indiana Jones', 'indi', 'sha256$mjRhVRtaxg9CT6IR$0269c149d4ca6bbcc49f3989b8d2f47b4cd28f44e6ae747cb42c01f2699b7f44', '1920-10-21')\n",
      "(6, 'Marion Ravenwood', 'raven', 'sha256$8rf6nuMMzmIolZ31$c642d4e35f95c72e61fd558c5b95ea0c7b7203c3a112eeaa14d84195242fb588', '1921-10-21')\n",
      "(7, 'Liav B', 'LaveBear2', 'SuperMort34', '2006-08-09')\n",
      "(1, 'Thomas Edison', 'toby', 'sha256$z8JBP2pU25i597RO$217ec7f4593df3b5aaa184f58bb65dc080cdd1cb977c60455f92c307a18970fe', '1847-02-11')\n",
      "(2, 'Nikola Tesla', 'niko', 'sha256$8DMUyZfuXnzIQJeJ$87ab31383e3733f7b13da8266b0f1d7b36fb0af6869718cab68493512490abcf', '2023-03-15')\n",
      "(3, 'Alexander Graham Bell', 'lex', 'sha256$3mD0XNHjHB9M2C51$d03ecd111724922b57f89006d586f6972279a76a17b803337230563ea45b6828', '2023-03-15')\n",
      "(4, 'Eli Whitney', 'whit', 'sha256$xOCEamJvuHizbbxU$4c0f6f0391dc28cf820864f4de4382ffb3b6cb41f6cc09f044b8cab7f2a9e0a3', '2023-03-15')\n",
      "(5, 'Indiana Jones', 'indi', 'sha256$mjRhVRtaxg9CT6IR$0269c149d4ca6bbcc49f3989b8d2f47b4cd28f44e6ae747cb42c01f2699b7f44', '1920-10-21')\n",
      "(6, 'Marion Ravenwood', 'raven', 'sha256$8rf6nuMMzmIolZ31$c642d4e35f95c72e61fd558c5b95ea0c7b7203c3a112eeaa14d84195242fb588', '1921-10-21')\n",
      "(7, 'Liav B', 'LaveBear2', 'SuperMort34', '2006-08-09')\n"
     ]
    }
   ],
   "source": [
    "# Menu, to run other cells from one control point\n",
    "def menu():\n",
    "    operation = input(\"Enter: (C)reate (R)ead (U)pdate or (D)elete or (S)chema\")\n",
    "    if operation.lower() == 'c':\n",
    "        create()\n",
    "    elif operation.lower() == 'r':\n",
    "        read()\n",
    "    elif operation.lower() == 'u':\n",
    "        update()\n",
    "    elif operation.lower() == 'd':\n",
    "        delete()\n",
    "    elif operation.lower() == 's':\n",
    "        schema()\n",
    "    elif len(operation)==0: # Escape Key\n",
    "        return\n",
    "    else:\n",
    "        print(\"Please enter c, r, u, or d\") \n",
    "    menu() # recursion, repeat menu\n",
    "        \n",
    "try:\n",
    "    menu() # start menu\n",
    "except:\n",
    "    print(\"Perform Jupyter 'Run All' prior to starting menu\")\n"
   ]
  },
  {
   "attachments": {},
   "cell_type": "markdown",
   "metadata": {},
   "source": [
    "# Recursive programing above\n",
    "- Keeps on running until it makes the return: Recursive programing"
   ]
  },
  {
   "attachments": {},
   "cell_type": "markdown",
   "metadata": {},
   "source": [
    "# Hacks\n",
    "- Add this Blog to you own Blogging site.  In the Blog add notes and observations on each code cell.\n",
    "- In this implementation, do you see procedural abstraction?\n",
    "    - This implementation has a lot of procedural abstraction. There are functions created in order to be able to define what procedures we want to do in the code. For example, there are procedures defined for create, read, update, and delete. This allows us to have a broad function which can be used to add information to specific rows of the database.\n",
    "\n",
    "- In 2.4a or 2.4b lecture\n",
    "    - Do you see data abstraction?  Complement this with Debugging example.\n",
    "        - There is data abstraction in this code. There are many things which are defined when creating a user, from their name to password to date of birth. These all need to be stored together, and using the code, we create a specific uid for the user which allows the rest of the data to be called from. The uid is essential in functions like update and delete, where data is removed or changed based on the user-specific uid.\n",
    "    - Use Imperative or OOP style to Create a new Table or do something that applies to your CPT project.\n",
    "        - I will use the OOP style for data manipulation because that is what I used for my CPT project\n",
    "    \n",
    "\n",
    "Reference... [sqlite documentation](https://www.sqlitetutorial.net/sqlite-python/creating-tables/)\n"
   ]
  }
 ],
 "metadata": {
  "kernelspec": {
   "display_name": "base",
   "language": "python",
   "name": "python3"
  },
  "language_info": {
   "codemirror_mode": {
    "name": "ipython",
    "version": 3
   },
   "file_extension": ".py",
   "mimetype": "text/x-python",
   "name": "python",
   "nbconvert_exporter": "python",
   "pygments_lexer": "ipython3",
   "version": "3.9.12"
  },
  "orig_nbformat": 4,
  "vscode": {
   "interpreter": {
    "hash": "8b82d5009c68ba5675978267e2b13a671f2a7143d61273c5a3813c97e0b2493d"
   }
  }
 },
 "nbformat": 4,
 "nbformat_minor": 2
}
