{
 "cells": [
  {
   "attachments": {},
   "cell_type": "markdown",
   "metadata": {},
   "source": [
    "# 4a and 4b Database Hacks Notebook\n",
    "- title: 4a and 4b Database Hacks\n",
    "- toc: true\n",
    "- categories: [notebook]"
   ]
  },
  {
   "cell_type": "markdown",
   "metadata": {},
   "source": [
    "# Table Creation"
   ]
  },
  {
   "cell_type": "code",
   "execution_count": 5,
   "metadata": {},
   "outputs": [],
   "source": [
    "import sqlite3 \n",
    "\n",
    "def create_connection(db): \n",
    "    connection = None\n",
    "    try: \n",
    "        connection = sqlite3.connect(db)\n",
    "        return connection \n",
    "    except Error as e: \n",
    "        print(e)\n",
    "    return connection \n",
    "\n",
    "def create_table(connection, createTblSql): \n",
    "    try: \n",
    "        cursor = connection.cursor()\n",
    "        cursor.execute(createTblSql)\n",
    "    except Error as e: \n",
    "        print(e)\n",
    "\n",
    "def main(): \n",
    "    database = 'instance/exersizes.db'\n",
    "\n",
    "    createTblSql = \"\"\" CREATE TABLE IF NOT EXISTS exersizes (\n",
    "                                        _id integer PRIMARY KEY,\n",
    "                                        _name text NOT NULL,\n",
    "                                        _muscle text NOT NULL,\n",
    "                                        _review text NOT NULL\n",
    "                                    ); \"\"\"\n",
    "    connection = create_connection(database)\n",
    "\n",
    "    # create exersizes table\n",
    "    if connection is not None:\n",
    "        create_table(connection, createTblSql)\n",
    "    else:\n",
    "        print('Connection Error')\n",
    "\n",
    "\n",
    "if __name__ == '__main__':\n",
    "    main()"
   ]
  },
  {
   "cell_type": "markdown",
   "metadata": {},
   "source": [
    "# Create "
   ]
  },
  {
   "cell_type": "code",
   "execution_count": 16,
   "metadata": {},
   "outputs": [
    {
     "name": "stdout",
     "output_type": "stream",
     "text": [
      "New exersize with squat is added.\n"
     ]
    }
   ],
   "source": [
    "def create():\n",
    "    database = 'instance/exersizes.db'\n",
    "    name = input(\"Enter the exersize name\")\n",
    "    muscle = input(\"Enter muscle group it works\")\n",
    "    review = input(\"Enter review of that exersize\")\n",
    "\n",
    "    # Connecting to the database, create cursor to execute the SQL command\n",
    "    connection = sqlite3.connect(database)\n",
    "    cursor = connection.cursor()\n",
    "\n",
    "    try:\n",
    "        # Execute SQL to insert record in to db\n",
    "        cursor.execute(\"INSERT INTO exersizes (_name, _muscle, _review) VALUES (?, ?, ?)\", (name, muscle, review))\n",
    "        # Commit the changes\n",
    "        connection.commit()\n",
    "        print(f\"New exersize with {name} is added.\")\n",
    "                \n",
    "    except sqlite3.Error as error:\n",
    "        print(\"Error while inserting record\", error)\n",
    "\n",
    "    # Closing cursor and connection\n",
    "    cursor.close()\n",
    "    connection.close()\n",
    "    \n",
    "create()"
   ]
  },
  {
   "cell_type": "markdown",
   "metadata": {},
   "source": [
    "# Read"
   ]
  },
  {
   "cell_type": "code",
   "execution_count": 17,
   "metadata": {},
   "outputs": [
    {
     "name": "stdout",
     "output_type": "stream",
     "text": [
      "(1, 'bench', 'chest', '9.5/10')\n",
      "(2, 'squat', 'legs', '9/10')\n"
     ]
    }
   ],
   "source": [
    "def read():\n",
    "\n",
    "    database = 'instance/exersizes.db'\n",
    "    # Connecting to the database, create cursor to execute the SQL command\n",
    "    connection = sqlite3.connect(database)\n",
    "    cursor = connection.cursor()\n",
    "    \n",
    "    # Fetch all the records from exersize table\n",
    "    results = cursor.execute('SELECT * FROM exersizes').fetchall()\n",
    "\n",
    "    if len(results) != 0:\n",
    "        for row in results:\n",
    "            print(row)\n",
    "    else:\n",
    "        print(\"No exercizes\")\n",
    "\n",
    "    # Closing cursor and connection\n",
    "    cursor.close()\n",
    "    connection.close()\n",
    "\n",
    "read()"
   ]
  },
  {
   "cell_type": "markdown",
   "metadata": {},
   "source": [
    "# Update"
   ]
  },
  {
   "cell_type": "code",
   "execution_count": 13,
   "metadata": {},
   "outputs": [
    {
     "name": "stdout",
     "output_type": "stream",
     "text": [
      "Review for the exersize is updated to 9.5/10\n"
     ]
    }
   ],
   "source": [
    "import sqlite3\n",
    "\n",
    "# updating review\n",
    "def update():  \n",
    "    \n",
    "    database = 'instance/exersizes.db'\n",
    "    exersizeId = input(\"Enter a exersize id to update the review\")\n",
    "    review = input(\"Enter new review\")\n",
    "\n",
    "   # Connecting to the database, create cursor to execute the SQL command\n",
    "    connection = sqlite3.connect(database)\n",
    "    cursor = connection.cursor()\n",
    "\n",
    "    try:\n",
    "        # Updating review for the exersize\n",
    "        cursor.execute(\"UPDATE exersizes SET _review = ? WHERE _id = ?\", (review, exersizeId))\n",
    "        if cursor.rowcount != 0:\n",
    "            print(f\"Review for the exersize is updated to {review}\")\n",
    "            connection.commit()\n",
    "        else:\n",
    "            print(f\"Exersize not found\")\n",
    "    except sqlite3.Error as error:\n",
    "        print(\"Error occurred\", error)\n",
    "        \n",
    "    # Closing cursor and connection\n",
    "    cursor.close()\n",
    "    connection.close()\n",
    "\n",
    "\n",
    "update()"
   ]
  },
  {
   "cell_type": "markdown",
   "metadata": {},
   "source": [
    "# Delete "
   ]
  },
  {
   "cell_type": "code",
   "execution_count": 18,
   "metadata": {},
   "outputs": [
    {
     "name": "stdout",
     "output_type": "stream",
     "text": [
      "Successfully deleted exersize with id 2\n"
     ]
    }
   ],
   "source": [
    "import sqlite3\n",
    "\n",
    "def delete():\n",
    "    \n",
    "    database = 'instance/exersizes.db'\n",
    "    exersizeId = input(\"Enter Exersize id to delete\")\n",
    "\n",
    "    # Connecting to the database, create cursor to execute the SQL command\n",
    "    connection = sqlite3.connect(database)\n",
    "    cursor = connection.cursor()\n",
    "    \n",
    "    try:\n",
    "        cursor.execute(\"DELETE FROM exersizes WHERE _id = ?\", (exersizeId))\n",
    "        if cursor.rowcount == 0:\n",
    "            print(f\"{exersizeId} does not exist\")\n",
    "        else:\n",
    "            print(f\"Successfully deleted exersize with id {exersizeId}\")\n",
    "        connection.commit()\n",
    "    except sqlite3.Error as error:\n",
    "        print(\"Error occurred: \", error)\n",
    "        \n",
    "    # Closing cursor and connection\n",
    "    cursor.close()\n",
    "    connection.close()\n",
    "\n",
    "delete()"
   ]
  },
  {
   "cell_type": "code",
   "execution_count": 19,
   "metadata": {},
   "outputs": [
    {
     "name": "stdout",
     "output_type": "stream",
     "text": [
      "Select an option:\n",
      "(c) Create\n",
      "(r) Read\n",
      "(u) Update\n",
      "(d) Delete\n",
      "(1, 'bench', 'chest', '9.5/10')\n",
      "Select an option:\n",
      "(c) Create\n",
      "(r) Read\n",
      "(u) Update\n",
      "(d) Delete\n",
      "(1, 'bench', 'chest', '9.5/10')\n",
      "Select an option:\n",
      "(c) Create\n",
      "(r) Read\n",
      "(u) Update\n",
      "(d) Delete\n"
     ]
    }
   ],
   "source": [
    "# Define the options as a list\n",
    "options = [\n",
    "    ('c', 'Create'),\n",
    "    ('r', 'Read'),\n",
    "    ('u', 'Update'),\n",
    "    ('d', 'Delete')\n",
    "]\n",
    "\n",
    "# Define the menu function\n",
    "def menu():\n",
    "    # Display the menu options\n",
    "    print('Select an option:')\n",
    "    for option in options:\n",
    "        print(f'({option[0]}) {option[1]}')\n",
    "\n",
    "    # Get the user's choice\n",
    "    operation = input(\"See the output below and choose an option, or press 'enter' to exit.\").lower()\n",
    "\n",
    "    # Find the selected option in the options list\n",
    "    selected_option = None\n",
    "    for option in options:\n",
    "        if operation == option[0]:\n",
    "            selected_option = option\n",
    "            break\n",
    "\n",
    "    # Call the corresponding function for the selected option\n",
    "    if selected_option:\n",
    "        if selected_option[0] == 'c':\n",
    "            create()\n",
    "        elif selected_option[0] == 'r':\n",
    "            read()\n",
    "        elif selected_option[0] == 'u':\n",
    "            update()\n",
    "        elif selected_option[0] == 'd':\n",
    "            delete()\n",
    "    elif operation == '':\n",
    "        return\n",
    "    else:\n",
    "        print('Invalid option')\n",
    "\n",
    "    # Repeat the menu\n",
    "    menu()\n",
    "\n",
    "\n",
    "menu()"
   ]
  }
 ],
 "metadata": {
  "kernelspec": {
   "display_name": "Python 3.10.9 64-bit",
   "language": "python",
   "name": "python3"
  },
  "language_info": {
   "codemirror_mode": {
    "name": "ipython",
    "version": 3
   },
   "file_extension": ".py",
   "mimetype": "text/x-python",
   "name": "python",
   "nbconvert_exporter": "python",
   "pygments_lexer": "ipython3",
   "version": "3.9.12"
  },
  "orig_nbformat": 4,
  "vscode": {
   "interpreter": {
    "hash": "b0fa6594d8f4cbf19f97940f81e996739fb7646882a419484c72d19e05852a7e"
   }
  }
 },
 "nbformat": 4,
 "nbformat_minor": 2
}
