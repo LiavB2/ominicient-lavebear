{
 "cells": [
  {
   "attachments": {},
   "cell_type": "markdown",
   "metadata": {},
   "source": [
    "# Likes Feature Code\n",
    "> The Frontend and Backend Code that I contributed to our ALAAT Gallery\n",
    "- categories: [Notes]"
   ]
  },
  {
   "attachments": {},
   "cell_type": "markdown",
   "metadata": {},
   "source": [
    "# Frontend"
   ]
  },
  {
   "attachments": {},
   "cell_type": "markdown",
   "metadata": {},
   "source": [
    "## Navbar + Logo"
   ]
  },
  {
   "cell_type": "code",
   "execution_count": null,
   "metadata": {
    "vscode": {
     "languageId": "html"
    }
   },
   "outputs": [],
   "source": [
    "<!DOCTYPE html>\n",
    "<html>\n",
    "    <body>\n",
    "        <!--the header section or the top part of every page-->\n",
    "        <section class=\"header\">\n",
    "            <nav>\n",
    "                <!--the logo on the header-->\n",
    "                <a href=\"{{ site.baseurl }}/\"><img src =\"images/ALAATlogo.png\"></a>\n",
    "                <div class=\"nav-links\">\n",
    "                    <ul>\n",
    "                        <!--the links to the other pages-->\n",
    "                        <li><a href=\"{{ site.baseurl }}/\">CAROUSEL</a></li>\n",
    "                        <li><a href=\"{{ site.baseurl }}/gallery.html\">GALLERY</a></li>\n",
    "                        <li><a href=\"{{ site.baseurl }}/Comments.html\">SUGGESTIONS</a></li>\n",
    "                        <li><a href=\"{{ site.baseurl }}/about.html\">OUR TEAM</a></li>\n",
    "                        <li><a href=\"{{ site.baseurl }}/signup.html\">SIGN UP</a></li>\n",
    "                    </ul>\n",
    "                    <!--loading screen-->\n",
    "                    <script>\n",
    "                        var loader = document.getElementById(\"loading\");\n",
    "                        window.addEventListener(\"load\", function(){\n",
    "                            loader.style.display = \"none\";\n",
    "                        })\n",
    "                    </script>\n",
    "                </div>\n",
    "            </nav>\n",
    "        </section>\n",
    "    </body>\n",
    "</html>"
   ]
  },
  {
   "attachments": {},
   "cell_type": "markdown",
   "metadata": {},
   "source": [
    "<img width=\"899\" alt=\"image\" src=\"https://github.com/LiavB2/ominicient-lavebear/assets/111464984/449d80c0-3c49-4d1e-b8e1-2037e5742f1e\">\n",
    "\n",
    "- This is just a simple navbar code that I created with HTML\n",
    "    - You can see that at the top left it has the ALAAT logo that I designed\n",
    "        - That logo is clickable and takes you to the gallery\n",
    "- Each link on the top right of the navbar starts with the baseURL of the site and adds /___.html to direct the user to that page.\n",
    "- We used liquid for this to show up on every page"
   ]
  },
  {
   "attachments": {},
   "cell_type": "markdown",
   "metadata": {},
   "source": [
    "## Like Function"
   ]
  },
  {
   "cell_type": "code",
   "execution_count": null,
   "metadata": {
    "vscode": {
     "languageId": "javascript"
    }
   },
   "outputs": [],
   "source": [
    "id.textContent = data.id;\n",
    "name.textContent = data.name;\n",
    "numLikes.textContent = data.likes ? data.likes : 0; // Check if 'likes' exists, otherwise use 0\n",
    "uid.textContent = data.uid;\n",
    "const img = document.createElement(\"img\");\n",
    "img.src = data.image;\n",
    "img.alt = data.name;\n",
    "img.style.width = \"100%\";\n",
    "img.style.height = \"100%\";\n",
    "likeButtonCell.appendChild(likeButton);\n",
    "imageCell.appendChild(img);\n",
    "tr.appendChild(id);\n",
    "tr.appendChild(name);\n",
    "tr.appendChild(likeButtonCell);\n",
    "tr.appendChild(numLikes);\n",
    "tr.appendChild(uid);\n",
    "tr.appendChild(imageCell);\n",
    "resultContainer.appendChild(tr);"
   ]
  },
  {
   "attachments": {},
   "cell_type": "markdown",
   "metadata": {},
   "source": [
    "- Set the text content of the element with id id to the value of data.id.\n",
    "- Set the text content of the element with id name to the value of data.name.\n",
    "- Set the text content of the element with id numLikes to the value of data.likes if it exists, otherwise use 0.\n",
    "- Set the text content of the element with id uid to the value of data.uid.\n",
    "- Create an img element and set its source (src) attribute to the value of data.image.\n",
    "- Set the alt attribute of the img element to the value of data.name.\n",
    "- Set the width and height styles of the img element to 100%.\n",
    "- Append the likeButton to the likeButtonCell.\n",
    "- Append the img to the imageCell.\n",
    "- Append the id, name, likeButtonCell, numLikes, uid, and imageCell elements to the tr element.\n",
    "- Append the tr element to the resultContainer."
   ]
  },
  {
   "attachments": {},
   "cell_type": "markdown",
   "metadata": {},
   "source": [
    "## Javascript Loop that automatically creates a like button for each photo\n",
    "\n",
    "<img width=\"894\" alt=\"image\" src=\"https://github.com/LiavB2/ominicient-lavebear/assets/111464984/7f7527bc-cb64-45cc-8684-ee0afe3214ae\">"
   ]
  },
  {
   "cell_type": "code",
   "execution_count": null,
   "metadata": {
    "vscode": {
     "languageId": "javascript"
    }
   },
   "outputs": [],
   "source": [
    "// Find all the image elements\n",
    "var imageElements = document.querySelectorAll('.my-gallery img');\n",
    "\n",
    "// Loop through each image element\n",
    "imageElements.forEach(function(image) {\n",
    "  // Create a container div for the image and like button\n",
    "  var container = document.createElement('div');\n",
    "  container.className = 'image-container';\n",
    "\n",
    "  // Clone the image element\n",
    "  var clonedImage = image.cloneNode(true);\n",
    "\n",
    "  // Create a new like button element\n",
    "  var likeButton = document.createElement('button');\n",
    "  likeButton.className = 'like-button';\n",
    "  likeButton.textContent = 'Like';\n",
    "\n",
    "  // Create a new like count element\n",
    "  var likeCount = document.createElement('span');\n",
    "  likeCount.className = 'like-count';\n",
    "  likeCount.textContent = 0 ;\n",
    "\n",
    "  // Append the cloned image, like button, and like count to the container\n",
    "  container.appendChild(clonedImage);\n",
    "  container.appendChild(likeButton);\n",
    "  container.appendChild(likeCount);\n",
    "\n",
    "  // Replace the original image element with the container\n",
    "  image.parentNode.replaceChild(container, image);\n",
    "});\n",
    "\n",
    "// Add event listener to all like buttons\n",
    "var likeButtons = document.querySelectorAll('.like-button');\n",
    "likeButtons.forEach(function(button) {\n",
    "  button.addEventListener('click', function() {\n",
    "    var countElement = this.parentNode.querySelector('.like-count');\n",
    "    var currentCount = parseInt(countElement.textContent);\n",
    "    countElement.textContent = currentCount + 1;\n",
    "  });\n",
    "});"
   ]
  },
  {
   "attachments": {},
   "cell_type": "markdown",
   "metadata": {},
   "source": [
    "- Find all the img elements with the class name \"my-gallery\" and store them in the imageElements variable.\n",
    "- Loop through each image element.\n",
    "- Create a container div element with the class name \"image-container\".\n",
    "- Clone the image element using cloneNode(true).\n",
    "- Create a new likeButton element with the class name \"like-button\" and the text content \"Like\".\n",
    "- Create a new likeCount element with the class name \"like-count\" and the initial text content of 0.\n",
    "- Append the cloned image, likeButton, and likeCount elements to the container.\n",
    "- Replace the original image element with the container.\n",
    "- Find all the likeButton elements and add an event listener to each one.\n",
    "- When a likeButton is clicked, update the corresponding likeCount by incrementing its value by 1."
   ]
  },
  {
   "attachments": {},
   "cell_type": "markdown",
   "metadata": {},
   "source": [
    "## Like Button + Function"
   ]
  },
  {
   "cell_type": "code",
   "execution_count": null,
   "metadata": {
    "vscode": {
     "languageId": "html"
    }
   },
   "outputs": [],
   "source": [
    "<div>\n",
    "<button id=\"object1\" class=\"like-button\">Like</button>\n",
    "<span id=\"object1-count\">0</span>\n",
    "</div>\n",
    "\n",
    "<div>\n",
    "<button id=\"object2\" class=\"like-button\">Like</button>\n",
    "<span id=\"object2-count\">0</span>\n",
    "</div>\n",
    "\n",
    "\n",
    "<script>\n",
    "$(document).ready(function() {\n",
    "  $('.like-button').click(function() {\n",
    "    var objectId = $(this).attr('id');\n",
    "    incrementLikeCount(objectId);\n",
    "  });\n",
    "\n",
    "  function incrementLikeCount(objectId) {\n",
    "    var countElement = $('#' + objectId + '-count');\n",
    "    var count = parseInt(countElement.text());\n",
    "    count++;\n",
    "    countElement.text(count);\n",
    "    // Send an AJAX request to update the backend with the new like count\n",
    "    $.ajax({\n",
    "      url: 'backend.php',\n",
    "      type: 'POST',\n",
    "      data: { objectId: objectId, count: count },\n",
    "      success: function(response) {\n",
    "        console.log(response);\n",
    "      },\n",
    "      error: function(xhr, status, error) {\n",
    "        console.error(error);\n",
    "      }\n",
    "    });\n",
    "  }\n",
    "});"
   ]
  },
  {
   "attachments": {},
   "cell_type": "markdown",
   "metadata": {},
   "source": [
    "- Create two div elements with a button and span inside each one.\n",
    "- Each button has a class name \"like-button\" and a unique id.\n",
    "- Each span has an id that matches the button id and ends with \"-count\".\n",
    "- When a like-button is clicked, the incrementLikeCount function is called with the button's id as an argument.\n",
    "- The incrementLikeCount function updates the like count by retrieving the corresponding count element, parsing its text content as an integer, incrementing it, and updating the text content.\n",
    "- It also sends an AJAX request to update the backend with the new like count, using the object's id and the updated count."
   ]
  },
  {
   "attachments": {},
   "cell_type": "markdown",
   "metadata": {},
   "source": [
    "# Backend"
   ]
  },
  {
   "attachments": {},
   "cell_type": "markdown",
   "metadata": {},
   "source": [
    "## Likes API"
   ]
  },
  {
   "cell_type": "code",
   "execution_count": null,
   "metadata": {},
   "outputs": [],
   "source": [
    "\n",
    "def patch(self):\n",
    "body = request.get_json()\n",
    "id = body.get('id')\n",
    "image = Images.query.filter_by(id=id).first()\n",
    "try:\n",
    "    name = body.get('name')\n",
    "    uid = body.get('uid')\n",
    "    likes = body.get('likes')\n",
    "    image.update(uid=uid, likes=likes, name=name)\n",
    "    return jsonify(image.get())\n",
    "except:\n",
    "    print(f\"error with {id}\")"
   ]
  },
  {
   "cell_type": "code",
   "execution_count": null,
   "metadata": {
    "vscode": {
     "languageId": "html"
    }
   },
   "outputs": [],
   "source": [
    "</head>\n",
    "<body>\n",
    "    <div id=\"post-container\">\n",
    "        <!-- Posts will be added dynamically here -->\n",
    "    </div>\n",
    "    <script>\n",
    "        // Data structure to hold posts\n",
    "        let posts = [];\n",
    "\n",
    "        // Function to add a post\n",
    "        function addPost(title, content) {\n",
    "            let post = {\n",
    "                title: title,\n",
    "                content: content,\n",
    "                likes: 0,\n",
    "                comments: []\n",
    "            };\n",
    "            posts.push(post);\n",
    "            renderPosts();\n",
    "        }\n",
    "\n",
    "        // Function to add a comment to a post\n",
    "        function addComment(postIndex, commentContent) {\n",
    "            let comment = {\n",
    "                content: commentContent,\n",
    "                likes: 0\n",
    "            };\n",
    "            posts[postIndex].comments.push(comment);\n",
    "            renderPosts();\n",
    "        }\n",
    "\n",
    "        // Function to like a post\n",
    "        function likePost(postIndex) {\n",
    "            posts[postIndex].likes++;\n",
    "            renderPosts();\n",
    "        }\n",
    "\n",
    "        // Function to like a comment\n",
    "        function likeComment(postIndex, commentIndex) {\n",
    "            posts[postIndex].comments[commentIndex].likes++;\n",
    "            renderPosts();\n",
    "        }\n",
    "\n",
    "        // Function to render posts and comments\n",
    "        function renderPosts() {\n",
    "            let postContainer = document.getElementById(\"post-container\");\n",
    "            postContainer.innerHTML = \"\";\n",
    "\n",
    "            posts.forEach(function(post, postIndex) {\n",
    "                let postElement = document.createElement(\"div\");\n",
    "                postElement.className = \"post\";\n",
    "                postElement.innerHTML = `\n",
    "                    <h3>${post.title}</h3>\n",
    "                    <p>${post.content}</p>\n",
    "                    <button class=\"like-btn\" onclick=\"likePost(${postIndex})\">Like</button>\n",
    "                    <span>Likes: ${post.likes}</span>\n",
    "                `;\n",
    "\n",
    "                post.comments.forEach(function(comment, commentIndex) {\n",
    "                    let commentElement = document.createElement(\"div\");\n",
    "                    commentElement.className = \"comment\";\n",
    "                    commentElement.innerHTML = `\n",
    "                        <p>${comment.content}</p>\n",
    "                        <button class=\"like-btn\" onclick=\"likeComment(${postIndex}, ${commentIndex})\">Like</button>\n",
    "                        <span>Likes: ${comment.likes}</span>\n",
    "                    `;\n",
    "                    postElement.appendChild(commentElement);\n",
    "                });\n",
    "\n",
    "                postContainer.appendChild(postElement);\n",
    "            });\n",
    "        }\n",
    "    </script>\n",
    "</body>\n",
    "</html>\n"
   ]
  },
  {
   "attachments": {},
   "cell_type": "markdown",
   "metadata": {},
   "source": [
    "- There is a route handling a PATCH request to update an image's likes count.\n",
    "- The request payload is expected to contain the image's id, name, uid, and likes values.\n",
    "- The code tries to update the image's properties with the new values and returns the updated image as JSON.\n",
    "- If an error occurs during the update, it prints an error message."
   ]
  }
 ],
 "metadata": {
  "language_info": {
   "name": "python"
  },
  "orig_nbformat": 4
 },
 "nbformat": 4,
 "nbformat_minor": 2
}
