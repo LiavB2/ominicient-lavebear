{
 "cells": [
  {
   "attachments": {},
   "cell_type": "markdown",
   "metadata": {},
   "source": [
    "#  Lesson Plan: Advanced Security Certbot and Cross-Origin Security Advancements - Liav Bar\n",
    "> Lesson Overview for my part of the project\n",
    "- toc: true\n",
    "- title: Lesson Plan: Advanced Security Certbot and Cross-Origin Security Advancements\n",
    "- categories: [Notes]"
   ]
  },
  {
   "attachments": {},
   "cell_type": "markdown",
   "metadata": {},
   "source": [
    "# Intro\n",
    "- We will be learning about the importance and applicability of CORS (Cross Origin Security) and Certbot.\n",
    "\n",
    "## Objective\n",
    "- Students will learn about Advanced Security Certbot and Cross-origin Security advancements, understand how to implement them into their own coding projects, and recognize the importance of CORS and Advanced Security Certbot.\n",
    "\n",
    "## Start Off\n",
    "- Ask students if they have heard of Advanced Security Certbot or Cross-origin Resource Sharing (CORS).\n",
    "- I am going to explain what they are and why they are important.\n",
    "- Explain that in this lesson, they will learn how to implement Advanced Security Certbot and CORS into their own coding projects."
   ]
  },
  {
   "attachments": {},
   "cell_type": "markdown",
   "metadata": {},
   "source": [
    "# Activity 1: Advanced Security Certbot\n",
    "- I will Define Advanced Security Certbot and explain why it is important.\n",
    "\n",
    "## Advanced Security Certbot\n",
    "- Certbot is a popular tool used to automate the process of obtaining and renewing SSL/TLS certificates for websites.\n",
    "    -  It works by communicating with the Let's Encrypt certificate authority, which provides free certificates for domain validation. \n",
    "    - Certbot verifies that the domain name is controlled by the user requesting the certificate and then generates and installs the certificate on the user's web server.\n",
    "- Advanced security features of Certbot include the ability to configure HTTPS redirection and to automate the renewal of certificates before they expire. \n",
    "    - HTTPS redirection ensures that all traffic to the website is encrypted, preventing eavesdropping and tampering by third parties. \n",
    "    - Certificate renewal ensures that the website's security credentials remain up to date and valid, preventing browser warnings and other security issues.\n",
    "\n",
    "- Demonstrate how to install Certbot on a server by running the following commands:"
   ]
  },
  {
   "cell_type": "code",
   "execution_count": null,
   "metadata": {
    "vscode": {
     "languageId": "shellscript"
    }
   },
   "outputs": [],
   "source": [
    "sudo add-apt-repository ppa:certbot/certbot\n",
    "sudo apt-get update\n",
    "sudo apt-get install certbot"
   ]
  },
  {
   "attachments": {},
   "cell_type": "markdown",
   "metadata": {},
   "source": [
    "- Demonstrate how to generate SSL/TLS certificates using Certbot by running the following command:"
   ]
  },
  {
   "cell_type": "code",
   "execution_count": null,
   "metadata": {
    "vscode": {
     "languageId": "shellscript"
    }
   },
   "outputs": [],
   "source": [
    "sudo certbot certonly --standalone"
   ]
  },
  {
   "attachments": {},
   "cell_type": "markdown",
   "metadata": {},
   "source": [
    "# Activity 2: Cross-origin Security Advancements (CORS)\n",
    "- Define Cross-origin Resource Sharing (CORS) and explain why it is important.\n",
    "\n",
    "## Cross-origing Security advancemnts\n",
    "- Cross-origin security is a set of techniques used to prevent web pages from accessing resources on other domains without permission. \n",
    "    - This is done to prevent malicious websites from stealing data or performing unauthorized actions on behalf of the user. \n",
    "    - Cross-origin security advancements include the use of the SameSite cookie attribute to prevent cross-site request forgery (CSRF) attacks, as well as the implementation of content security policies (CSP) to prevent cross-site scripting (XSS) attacks.\n",
    "\n",
    "- Demonstrate how to implement CORS in a web application by adding the following header to the server's response:"
   ]
  },
  {
   "cell_type": "code",
   "execution_count": null,
   "metadata": {
    "vscode": {
     "languageId": "shellscript"
    }
   },
   "outputs": [],
   "source": [
    "Access-Control-Allow-Origin: <origin>\n"
   ]
  },
  {
   "attachments": {},
   "cell_type": "markdown",
   "metadata": {},
   "source": [
    "- Explain the different types of CORS requests and how to handle them (simple requests vs. preflighted requests).\n",
    "- Example Code to Implement CORS: "
   ]
  },
  {
   "cell_type": "code",
   "execution_count": null,
   "metadata": {
    "vscode": {
     "languageId": "javascript"
    }
   },
   "outputs": [],
   "source": [
    "// Allow requests from any origin\n",
    "app.use(function(req, res, next) {\n",
    "  res.header(\"Access-Control-Allow-Origin\", \"*\");\n",
    "  res.header(\"Access-Control-Allow-Headers\", \"Origin, X-Requested-With, Content-Type, Accept\");\n",
    "  next();\n",
    "});\n"
   ]
  },
  {
   "attachments": {},
   "cell_type": "markdown",
   "metadata": {},
   "source": [
    "# Conclusion\n",
    "- Recap the importance of Advanced Security Certbot and Cross-origin Security advancements.\n",
    "\n",
    "## Why are these important?\n",
    "- It is important to learn about Advanced Security Certbot and Cross-origin Security advancements because they both play a critical role in ensuring the security and integrity of web applications and websites.\n",
    "    - Protecting websites and online services: \n",
    "        - In today's digital age, websites and online services are vulnerable to cyber attacks such as hacking, data theft, and other security breaches. By learning about advanced security tools and techniques like Certbot and Cross-origin Security, website owners and developers can better protect their websites and users from these threats.\n",
    "    - Building trust with users: \n",
    "        - Users expect websites and online services to be secure and protect their personal data. By implementing advanced security measures, website owners and developers can build trust with users and improve their reputation.\n",
    "        \n",
    "- Ask how people are planning on implementing Certbot and CORS in their own projects.\n",
    "- Encourage everyone to continue exploring security best practices in their coding projects."
   ]
  },
  {
   "attachments": {},
   "cell_type": "markdown",
   "metadata": {},
   "source": [
    "# Plan for Hacks\n",
    "- I am going to ask them to implement a Security Certbot or CORS into their own blogs or project.\n",
    "- They will have to either record a video with display and explaination of the implementation, or have multiple screenshots and a blog about how they implemented\n",
    "    - Two possible options to choose from\n",
    "\n",
    "## Grading Hacks\n",
    "- I will grade them based on their explanations and if they implemented CORS or certbot correctly.\n",
    "- 0.30 if they have CORS implementation\n",
    "- 0.30 if they explained well in a blog or video\n",
    "- 0.60 points total."
   ]
  }
 ],
 "metadata": {
  "language_info": {
   "name": "python"
  },
  "orig_nbformat": 4
 },
 "nbformat": 4,
 "nbformat_minor": 2
}
