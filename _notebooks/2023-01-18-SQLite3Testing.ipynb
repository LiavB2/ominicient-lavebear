{
 "cells": [
  {
   "cell_type": "code",
   "execution_count": 1,
   "metadata": {},
   "outputs": [],
   "source": [
    "import sqlite3\n",
    "\n",
    "conn = sqlite3.connect('test.db')\n",
    "cursor = conn.cursor()\n",
    "\n",
    "# create table\n",
    "cursor.execute('''CREATE TABLE test_table (id INTEGER PRIMARY KEY, name TEXT, age INTEGER)''')\n",
    "\n",
    "# insert data\n",
    "cursor.execute(\"INSERT INTO test_table (name, age) VALUES ('John Doe', 25)\")\n",
    "cursor.execute(\"INSERT INTO test_table (name, age) VALUES ('Jane Smith', 30)\")\n",
    "\n",
    "# commit changes\n",
    "conn.commit()\n",
    "\n",
    "# close the connection\n",
    "conn.close()\n",
    "\n"
   ]
  },
  {
   "attachments": {},
   "cell_type": "markdown",
   "metadata": {},
   "source": [
    "$ sqlite3 test.db\n",
    "SQLite version 3.31.1 2020-01-27 19:55:54\n",
    "Enter \".help\" for usage hints.\n",
    "sqlite> CREATE TABLE test_table (id INTEGER PRIMARY KEY, name TEXT, age INTEGER);\n",
    "sqlite> .tables\n",
    "test_table\n",
    "sqlite> .exit\n"
   ]
  },
  {
   "cell_type": "code",
   "execution_count": null,
   "metadata": {},
   "outputs": [],
   "source": [
    "from nump"
   ]
  },
  {
   "attachments": {},
   "cell_type": "markdown",
   "metadata": {},
   "source": [
    "$ sqlite3 test.db\n",
    "SQLite version 3.31.1 2020-01-27 19:55:54\n",
    "Enter \".help\" for usage hints.\n",
    "sqlite> INSERT INTO test_table (name, age) VALUES ('John Doe', 25);\n",
    "sqlite> INSERT INTO test_table (name, age) VALUES ('Jane Smith', 30);\n",
    "sqlite> SELECT * FROM test_table;\n",
    "1|John Doe|25\n",
    "2|Jane Smith|30\n"
   ]
  },
  {
   "cell_type": "code",
   "execution_count": null,
   "metadata": {},
   "outputs": [],
   "source": [
    "import sqlite3\n",
    "\n",
    "#connect to the database (or create it if it doesn't exist)\n",
    "conn = sqlite3.connect('example.db')\n",
    "\n",
    "#create a table\n",
    "conn.execute('''CREATE TABLE COMPANY\n",
    "             (ID INT PRIMARY KEY     NOT NULL,\n",
    "             NAME           TEXT    NOT NULL,\n",
    "             AGE            INT     NOT NULL,\n",
    "             ADDRESS        CHAR(50),\n",
    "             SALARY         REAL);''')\n",
    "\n",
    "#commit the changes and close the connection\n",
    "conn.commit()\n",
    "conn.close()\n"
   ]
  },
  {
   "attachments": {},
   "cell_type": "markdown",
   "metadata": {},
   "source": []
  }
 ],
 "metadata": {
  "kernelspec": {
   "display_name": "Python 3",
   "language": "python",
   "name": "python3"
  },
  "language_info": {
   "codemirror_mode": {
    "name": "ipython",
    "version": 3
   },
   "file_extension": ".py",
   "mimetype": "text/x-python",
   "name": "python",
   "nbconvert_exporter": "python",
   "pygments_lexer": "ipython3",
   "version": "3.8.10 (default, Jun 22 2022, 20:18:18) \n[GCC 9.4.0]"
  },
  "orig_nbformat": 4,
  "vscode": {
   "interpreter": {
    "hash": "916dbcbb3f70747c44a77c7bcd40155683ae19c65e1c03b4aa3499c5328201f1"
   }
  }
 },
 "nbformat": 4,
 "nbformat_minor": 2
}
