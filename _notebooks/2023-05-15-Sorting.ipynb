{
 "cells": [
  {
   "attachments": {},
   "cell_type": "markdown",
   "metadata": {},
   "source": [
    "# Sorting Algorithms Notes and Hacks\n",
    "> Working with Data Structures and manipulating data.\n",
    "\n",
    "- categories: [Notes]"
   ]
  },
  {
   "attachments": {},
   "cell_type": "markdown",
   "metadata": {},
   "source": [
    "[wget link](https://raw.githubusercontent.com/nighthawkcoders/APCSP/master/_notebooks/2023-05-15-DS-sorting.ipynb)"
   ]
  },
  {
   "cell_type": "code",
   "execution_count": 1,
   "metadata": {},
   "outputs": [
    {
     "name": "stdout",
     "output_type": "stream",
     "text": [
      "Random List\n",
      "[93, 27, 46, 30, 5, 70, 34, 23, 7, 25]\n"
     ]
    }
   ],
   "source": [
    "import random\n",
    "\n",
    "numbers = []\n",
    "for i in range(10):\n",
    "    numbers.append(random.randint(0,100))\n",
    "print(\"Random List\")\n",
    "print(numbers)"
   ]
  },
  {
   "attachments": {},
   "cell_type": "markdown",
   "metadata": {},
   "source": [
    "# Warm Up\n",
    "\n",
    "> Discuss with a partner... \n",
    "What are some strategies you would use to sort this list? (Don't worry about writing code for now)\n",
    "- Yo ucan compare every number to the previous one and adjust as you go."
   ]
  },
  {
   "attachments": {},
   "cell_type": "markdown",
   "metadata": {},
   "source": [
    "# Explore\n",
    "\n",
    "Get into groups of 3\n",
    "\n",
    "We will be focusing on 4 algorithms today.\n",
    "\n",
    "We will look at the first one together, Bubble Sort\n",
    "\n",
    "What is happening with this sort?\n",
    "\n",
    "In your groups you will each choose to be an expert on a sorting algorithm. Merge, Selection, and Insertion.\n",
    "Take about 5 minutes to read about your algorithm (Geek for Geeks linked below) and be ready to explain it to your other group members. "
   ]
  },
  {
   "attachments": {},
   "cell_type": "markdown",
   "metadata": {},
   "source": [
    "## Practice\n",
    "\n",
    "[75, 17, 46, 80, 67, 45, 69, 79, 40, 0]\n",
    "\n",
    "How would you sort this list with... \n",
    "- Bubble Sort\n",
    "  - This works by  repeatedly swapping elements if they are in the wrong order. It continues iterating through the list until the entire list is sorted.\n",
    "\n",
    "\n",
    "Pass 1: [17, 46, 75, 67, 45, 69, 79, 40, 0, 80]\n",
    "\n",
    "Pass 2: [17, 46, 67, 45, 69, 75, 40, 0, 79, 80]\n",
    "\n",
    "Pass 3: [17, 46, 45, 67, 69, 40, 0, 75, 79, 80]\n",
    "\n",
    "Pass 4: [17, 45, 46, 67, 40, 0, 69, 75, 79, 80]\n",
    "\n",
    "Pass 5: [17, 45, 46, 40, 0, 67, 69, 75, 79, 80]\n",
    "\n",
    "Pass 6: [17, 45, 40, 0, 46, 67, 69, 75, 79, 80]\n",
    "\n",
    "Pass 7: [17, 40, 0, 45, 46, 67, 69, 75, 79, 80]\n",
    "\n",
    "Pass 8: [17, 0, 40, 45, 46, 67, 69, 75, 79, 80]\n",
    "\n",
    "Pass 9: [0, 17, 40, 45, 46, 67, 69, 75, 79, 80]\n",
    "- Selection Sort\n",
    "  - this works by repeatedly finding the minimum element from the unsorted part of the list and placing it at the beginning\n",
    "\n",
    "\n",
    "Pass 1: [0, 17, 46, 80, 67, 45, 69, 79, 40, 75]\n",
    "\n",
    "Pass 2: [0, 17, 40, 80, 67, 45, 69, 79, 46, 75]\n",
    "\n",
    "Pass 3: [0, 17, 40, 45, 67, 80, 69, 79, 46, 75]\n",
    "\n",
    "Pass 4: [0, 17, 40, 45, 46, 80, 69, 79, 67, 75]\n",
    "\n",
    "Pass 5: [0, 17, 40, 45, 46, 67, 69, 79, 80, 75]\n",
    "\n",
    "Pass 6: [0, 17, 40, 45, 46, 67, 69, 75, 80, 79]\n",
    "\n",
    "Pass 7: [0, 17, 40, 45, 46, 67, 69, 75, 79, 80]\n",
    "> Explain.\n",
    "\n",
    "\n",
    "\n",
    "# Pt2\n",
    "[88, 39, 53, 39, 58, 43, 74, 81, 71, 51]\n",
    "\n",
    "How would you sort this list with... \n",
    "- Merge Sort recursively divides the list into smaller halves, sorts them individually, and then merges them back together to obtain the final sorted list. \n",
    "\n",
    "\n",
    "Step 1: Divide the list into individual elements [88], [39], [53], [39], [58], [43], [74], [81], [71], [51]\n",
    "\n",
    "Step 2: Merge the individual elements pairwise [39, 88], [39, 53], [39, 53, 88], [39, 39, 53, 53, 88], [43, 58], [43, 58, 74], [43, 58, 74, 81], [51, 71], [51, 71, 81], [51, 71, 74, 81]\n",
    "\n",
    "Step 3: Merge the pairs until we obtain the final sorted list [39, 39, 53, 53, 58, 88], [43, 58, 74, 74, 81], [51, 71, 71, 81]\n",
    "\n",
    "Final sorted list: [39, 39, 43, 51, 53, 53, 58, 71, 74, 74, 81, 81, 88]\n",
    "\n",
    "\n",
    "\n",
    "- Insertion Sort iterates over each element in the unsorted portion and inserts it into the correct position in the sorted portion.\n",
    "\n",
    "\n",
    "\n",
    "Pass 1: [39, 88, 53, 39, 58, 43, 74, 81, 71, 51]\n",
    "\n",
    "Pass 2: [39, 53, 88, 39, 58, 43, 74, 81, 71, 51]\n",
    "\n",
    "Pass 3: [39, 39, 53, 88, 58, 43, 74, 81, 71, 51]\n",
    "\n",
    "Pass 4: [39, 39, 53, 58, 88, 43, 74, 81, 71, 51]\n",
    "\n",
    "Pass 5: [39, 39, 43, 53, 58, 88, 74, 81, 71, 51]\n",
    "\n",
    "Pass 6: [39, 39, 43, 53, 58, 74, 88, 81, 71, 51]\n",
    "\n",
    "Pass 7: [39, 39, 43, 53, 58, 74, 81, 88, 71, 51]\n",
    "\n",
    "Pass 8: [39, 39, 43, 53, 58, 71, 74, 81, 88, 51]\n",
    "\n",
    "Pass 9: [39, 39, 43, 53, 58, 71, 74, 81, 88, 51]\n",
    "\n",
    "Pass 10: [39, 39, 43, 51, 53, 58, 71, 74, 81, 88]\n"
   ]
  },
  {
   "attachments": {},
   "cell_type": "markdown",
   "metadata": {},
   "source": [
    "# Sorting Words\n",
    "> Sorting strings works in the same way as integers. Using your expertise algorithm, sort the following list of random words."
   ]
  },
  {
   "cell_type": "code",
   "execution_count": 2,
   "metadata": {},
   "outputs": [
    {
     "name": "stderr",
     "output_type": "stream",
     "text": [
      "[nltk_data] Downloading package words to /home/sophia/nltk_data...\n"
     ]
    },
    {
     "name": "stdout",
     "output_type": "stream",
     "text": [
      "Random List\n",
      "['limbless', 'bloody', 'mesothelium', 'unascended', 'balancer', 'stinkweed', 'monopyrenous', 'yardland', 'cryptology', 'margarin']\n"
     ]
    },
    {
     "name": "stderr",
     "output_type": "stream",
     "text": [
      "[nltk_data]   Unzipping corpora/words.zip.\n"
     ]
    }
   ],
   "source": [
    "import nltk\n",
    "import random\n",
    "\n",
    "nltk.download('words')  # Download the word list (only required once)\n",
    "\n",
    "from nltk.corpus import words\n",
    "\n",
    "english_words = words.words()\n",
    "#print(len(english_words))  # Prints the number of words in the list\n",
    "\n",
    "# You can now use the 'english_words' list in your code\n",
    "\n",
    "words = []\n",
    "for i in range(10):\n",
    "    words.append(english_words[random.randint(0,len(english_words))])\n",
    "print(\"Random List\")\n",
    "print(words)"
   ]
  },
  {
   "attachments": {},
   "cell_type": "markdown",
   "metadata": {},
   "source": [
    "## Discuss \n",
    "Answer the following with your group.\n",
    "\n",
    "- When should you use each algorithm? What makes an algorithm the right choice?\n",
    "- Given the following lists...\n",
    "    - [0, 2, 6, 4, 8, 10] - INSERTION because then only one sort is necessary OR bubble sort OR Bubble sort because it would just swap 4 and 6\n",
    "    - [Elephant, Banana, Cat, Dog, Apple] - Selection sort because it finds the \"least\"/\"first\"\n",
    "    - [29, 13, 83, 47, 32, 78, 100, 60, 65, 15, 24, 9, 40, 68, 53, 8, 90, 58, 39, 32, 34, 91, 74, 94, 49, 87, 34, 87, 23, 17, 27, 2, 38, 58, 84, 15, 9, 46, 74, 40, 44, 8, 55, 28, 81, 92, 81, 88, 53, 38, 19, 21, 9, 54, 21, 67, 3, 41, 3, 74, 13, 71, 70, 45, 5, 36, 80, 64, 97, 86, 73, 74, 94, 79, 49, 32, 20, 68, 64, 69, 1, 77, 31, 56, 100, 80, 48, 75, 85, 93, 67, 57, 26, 56, 43, 53, 59, 28, 67, 50] - Merge sort because it's so long\n",
    "Select the algorithm you believe is best for each, explain.\n",
    "\n",
    "Looking at saving time complexity!\n",
    "Looping through is O(N^2)\n",
    "Merging is N(logN)"
   ]
  },
  {
   "attachments": {},
   "cell_type": "markdown",
   "metadata": {},
   "source": [
    "## HACKS\n",
    "> Provided below is a Bubble Sort Algorithm sorting a list of dictionaries based off of selected key.\n",
    "\n",
    "- Now it's time to do some coding...\n",
    "\n",
    "- Run code and then research and answer these questions...\n",
    "    - Is a list and/or dictionary in python considered a primitive or collection type?  Why?\n",
    "    - Is the list passed into bubble sort \"pass-by-value\" or \"pass-by-reference? Describe why in relation to output.\n",
    "\n",
    "- Implement new cell(s) and/or organize cells to do the following.\n",
    "    - Create your own list\n",
    "    - Use your expertise sorting algorithm (selection, insertion, merge). Note, I got my bubble sort from Geek for Geeks and made modifications. Each student in a group should have a unique algorithm.\n",
    "    - Test your list with my bubble sort\n",
    "    - Test my list with your new sort\n",
    "    - Research analysis on sorting: comparisons, swaps, time.  Build this into your hacks.\n",
    "    - Find a better way to print the data, key first, then other elements in viewable form.\n",
    "\n",
    "Use the code below to help guide your adventure"
   ]
  },
  {
   "cell_type": "code",
   "execution_count": 74,
   "metadata": {},
   "outputs": [
    {
     "name": "stdout",
     "output_type": "stream",
     "text": [
      "Original\n",
      "[{'name': 'Risa', 'age': 18, 'city': 'New York'}, {'name': 'John', 'age': 63, 'city': 'Eugene'}, {'name': 'Shekar', 'age': 18, 'city': 'San Francisco'}, {'name': 'Ryan', 'age': 21, 'city': 'Los Angeles'}]\n",
      "\n",
      "-----------------------------\n",
      "Sorting by insertion sort...\n",
      "\n",
      "sorting by name\n",
      "insertion sort\n",
      "[{'name': 'Ryan', 'age': 21, 'city': 'Los Angeles'}, {'name': 'John', 'age': 63, 'city': 'Eugene'}, {'name': 'Risa', 'age': 18, 'city': 'New York'}, {'name': 'Shekar', 'age': 18, 'city': 'San Francisco'}]\n",
      "\n",
      "sorting by age\n",
      "insertion sort\n",
      "[{'name': 'Shekar', 'age': 18, 'city': 'San Francisco'}, {'name': 'Risa', 'age': 18, 'city': 'New York'}, {'name': 'Ryan', 'age': 21, 'city': 'Los Angeles'}, {'name': 'John', 'age': 63, 'city': 'Eugene'}]\n",
      "\n",
      "sorting by city\n",
      "insertion sort\n",
      "[{'name': 'John', 'age': 63, 'city': 'Eugene'}, {'name': 'Ryan', 'age': 21, 'city': 'Los Angeles'}, {'name': 'Risa', 'age': 18, 'city': 'New York'}, {'name': 'Shekar', 'age': 18, 'city': 'San Francisco'}]\n"
     ]
    }
   ],
   "source": [
    "\"\"\"\n",
    "* Creator: Nighthawk Coding Society\n",
    "Bubble Sort of a List with optimizations\n",
    "\"\"\"\n",
    "\n",
    "# bubble sorts a list of dictionaries, base off of provided key\n",
    "def bubbleSort(list, key):\n",
    "    n = len(list) - 1  # list are indexed 0 to n-1, len is n\n",
    "    \n",
    "    # Traverse through list with i index\n",
    "    for i in range(n):\n",
    "        swapped = False  # optimize code, so it exits if now swaps on inner loop\n",
    "\n",
    "        # Inner traversal using j index\n",
    "        for j in range(n-i):  # n-i as positions on right are in order in bubble\n",
    " \n",
    "            # Swap if the element KeyN is greater KeyN1\n",
    "            keyN = list[j].get(key)\n",
    "            keyN1 = list[j+1].get(key)\n",
    "            if keyN > keyN1:\n",
    "                swapped = True\n",
    "                list[j], list[j + 1] = list[j + 1], list[j]  # single line swap\n",
    "         \n",
    "        if not swapped:  # if no swaps on inner pass, list is sorted\n",
    "            return  # exit function\n",
    "\n",
    "def insertionSort(list, key):\n",
    "    for i in range (1, len(list)):\n",
    "        keyN = list[i].get(key)\n",
    "        keyO = list[i]\n",
    "        # print(keyN)\n",
    "        j = i-1\n",
    "        keyJ = list[j].get(key)\n",
    "        # print(keyJ)\n",
    "        while j>=0 and keyN < keyJ:\n",
    "            list[j+1] = list[j]\n",
    "            j = j -1\n",
    "        list[j+1] = keyO\n",
    "    return list\n",
    "\n",
    "\n",
    "if __name__ == \"__main__\":\n",
    "    # list/dictionary sample\n",
    "    list_of_people = [\n",
    "    {\"name\": \"Risa\", \"age\": 18, \"city\": \"New York\"},\n",
    "    {\"name\": \"John\", \"age\": 63, \"city\": \"Eugene\"},\n",
    "    {\"name\": \"Shekar\", \"age\": 18, \"city\": \"San Francisco\"},\n",
    "    {\"name\": \"Ryan\", \"age\": 21, \"city\": \"Los Angeles\"}\n",
    "    ]\n",
    "    \n",
    "    # assuming uniform keys, pick 1st row as source of keys\n",
    "    key_row = list_of_people[0]\n",
    "\n",
    "    # print list as defined\n",
    "    print(\"Original\")\n",
    "    print(list_of_people)\n",
    "    \n",
    "    # for key in key_row:  # finds each key in the row\n",
    "    #     print(key)\n",
    "    #     bubbleSort(list_of_people, key)  # sort list of people\n",
    "        # insertionSort(list_of_people, key)\n",
    "        # print(list_of_people)\n",
    "\n",
    "    print(\"\\n-----------------------------\")\n",
    "    print(\"Sorting by insertion sort...\")\n",
    "    for key in key_row:\n",
    "        print(\"\\nsorting by \" + key)\n",
    "        print(\"insertion sort\")\n",
    "        print(insertionSort(list_of_people, key))\n"
   ]
  }
 ],
 "metadata": {
  "kernelspec": {
   "display_name": "base",
   "language": "python",
   "name": "python3"
  },
  "language_info": {
   "codemirror_mode": {
    "name": "ipython",
    "version": 3
   },
   "file_extension": ".py",
   "mimetype": "text/x-python",
   "name": "python",
   "nbconvert_exporter": "python",
   "pygments_lexer": "ipython3",
   "version": "3.9.12"
  },
  "orig_nbformat": 4
 },
 "nbformat": 4,
 "nbformat_minor": 2
}
