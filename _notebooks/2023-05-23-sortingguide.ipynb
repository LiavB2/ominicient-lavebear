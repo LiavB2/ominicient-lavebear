{
 "cells": [
  {
   "attachments": {},
   "cell_type": "markdown",
   "metadata": {},
   "source": [
    "# Sorting Notes and Hacks\n",
    "> Sorting lesson\n",
    "\n",
    "- tags: [Notes]\n"
   ]
  },
  {
   "attachments": {},
   "cell_type": "markdown",
   "metadata": {},
   "source": [
    "[wget link](https://raw.githubusercontent.com/nighthawkcoders/APCSP/master/_notebooks/2023-05-15-DS-sorting.ipynb)"
   ]
  },
  {
   "cell_type": "code",
   "execution_count": 1,
   "metadata": {},
   "outputs": [
    {
     "name": "stdout",
     "output_type": "stream",
     "text": [
      "Random List\n",
      "[19, 11, 20, 46, 48, 33, 31, 4, 30, 29]\n"
     ]
    }
   ],
   "source": [
    "import random\n",
    "\n",
    "numbers = []\n",
    "for i in range(10):\n",
    "    numbers.append(random.randint(0,100))\n",
    "print(\"Random List\")\n",
    "print(numbers)"
   ]
  },
  {
   "attachments": {},
   "cell_type": "markdown",
   "metadata": {},
   "source": [
    "# Warm Up\n",
    "\n",
    "> Discuss with a partner... \n",
    "What are some strategies you would use to sort this list? (Don't worry about writing code for now)\n",
    "-  You can compare every number to the previous one and adjust as you go."
   ]
  },
  {
   "attachments": {},
   "cell_type": "markdown",
   "metadata": {},
   "source": [
    "# Explore\n",
    "\n",
    "Get into groups of 3\n",
    "\n",
    "We will be focusing on 4 algorithms today.\n",
    "\n",
    "We will look at the first one together, Bubble Sort\n",
    "\n",
    "![](images/bubble-sort.png)\n",
    "\n",
    "What is happening with this sort?\n",
    "\n",
    "In your groups you will each choose to be an expert on a sorting algorithm. Merge, Selection, and Insertion.\n",
    "Take about 5 minutes to read about your algorithm (Geek for Geeks linked below) and be ready to explain it to your other group members. \n",
    "\n",
    "[Merge](https://www.geeksforgeeks.org/merge-sort/#)\n",
    "\n",
    "[Selection](https://www.geeksforgeeks.org/selection-sort/)\n",
    "\n",
    "[Insertion](https://www.geeksforgeeks.org/insertion-sort/)"
   ]
  },
  {
   "attachments": {},
   "cell_type": "markdown",
   "metadata": {},
   "source": [
    "## Practice\n",
    "\n",
    "[75, 17, 46, 80, 67, 45, 69, 79, 40, 0]\n",
    "\n",
    "How would you sort this list with... \n",
    "- Bubble Sort\n",
    "  - This works by  repeatedly swapping elements if they are in the wrong order. It continues iterating through the list until the entire list is sorted.\n",
    "\n",
    "\n",
    "Pass 1: [17, 46, 75, 67, 45, 69, 79, 40, 0, 80]\n",
    "\n",
    "Pass 2: [17, 46, 67, 45, 69, 75, 40, 0, 79, 80]\n",
    "\n",
    "Pass 3: [17, 46, 45, 67, 69, 40, 0, 75, 79, 80]\n",
    "\n",
    "Pass 4: [17, 45, 46, 67, 40, 0, 69, 75, 79, 80]\n",
    "\n",
    "Pass 5: [17, 45, 46, 40, 0, 67, 69, 75, 79, 80]\n",
    "\n",
    "Pass 6: [17, 45, 40, 0, 46, 67, 69, 75, 79, 80]\n",
    "\n",
    "Pass 7: [17, 40, 0, 45, 46, 67, 69, 75, 79, 80]\n",
    "\n",
    "Pass 8: [17, 0, 40, 45, 46, 67, 69, 75, 79, 80]\n",
    "\n",
    "Pass 9: [0, 17, 40, 45, 46, 67, 69, 75, 79, 80]\n",
    "- Selection Sort\n",
    "  - this works by repeatedly finding the minimum element from the unsorted part of the list and placing it at the beginning\n",
    "\n",
    "\n",
    "Pass 1: [0, 17, 46, 80, 67, 45, 69, 79, 40, 75]\n",
    "\n",
    "Pass 2: [0, 17, 40, 80, 67, 45, 69, 79, 46, 75]\n",
    "\n",
    "Pass 3: [0, 17, 40, 45, 67, 80, 69, 79, 46, 75]\n",
    "\n",
    "Pass 4: [0, 17, 40, 45, 46, 80, 69, 79, 67, 75]\n",
    "\n",
    "Pass 5: [0, 17, 40, 45, 46, 67, 69, 79, 80, 75]\n",
    "\n",
    "Pass 6: [0, 17, 40, 45, 46, 67, 69, 75, 80, 79]\n",
    "\n",
    "Pass 7: [0, 17, 40, 45, 46, 67, 69, 75, 79, 80]\n",
    "> Explain.\n",
    "\n",
    "\n",
    "\n",
    "# Pt2\n",
    "[88, 39, 53, 39, 58, 43, 74, 81, 71, 51]\n",
    "\n",
    "How would you sort this list with... \n",
    "- Merge Sort recursively divides the list into smaller halves, sorts them individually, and then merges them back together to obtain the final sorted list. \n",
    "\n",
    "\n",
    "Step 1: Divide the list into individual elements [88], [39], [53], [39], [58], [43], [74], [81], [71], [51]\n",
    "\n",
    "Step 2: Merge the individual elements pairwise [39, 88], [39, 53], [39, 53, 88], [39, 39, 53, 53, 88], [43, 58], [43, 58, 74], [43, 58, 74, 81], [51, 71], [51, 71, 81], [51, 71, 74, 81]\n",
    "\n",
    "Step 3: Merge the pairs until we obtain the final sorted list [39, 39, 53, 53, 58, 88], [43, 58, 74, 74, 81], [51, 71, 71, 81]\n",
    "\n",
    "Final sorted list: [39, 39, 43, 51, 53, 53, 58, 71, 74, 74, 81, 81, 88]\n",
    "\n",
    "\n",
    "\n",
    "- Insertion Sort iterates over each element in the unsorted portion and inserts it into the correct position in the sorted portion.\n",
    "\n",
    "\n",
    "\n",
    "Pass 1: [39, 88, 53, 39, 58, 43, 74, 81, 71, 51]\n",
    "\n",
    "Pass 2: [39, 53, 88, 39, 58, 43, 74, 81, 71, 51]\n",
    "\n",
    "Pass 3: [39, 39, 53, 88, 58, 43, 74, 81, 71, 51]\n",
    "\n",
    "Pass 4: [39, 39, 53, 58, 88, 43, 74, 81, 71, 51]\n",
    "\n",
    "Pass 5: [39, 39, 43, 53, 58, 88, 74, 81, 71, 51]\n",
    "\n",
    "Pass 6: [39, 39, 43, 53, 58, 74, 88, 81, 71, 51]\n",
    "\n",
    "Pass 7: [39, 39, 43, 53, 58, 74, 81, 88, 71, 51]\n",
    "\n",
    "Pass 8: [39, 39, 43, 53, 58, 71, 74, 81, 88, 51]\n",
    "\n",
    "Pass 9: [39, 39, 43, 53, 58, 71, 74, 81, 88, 51]\n",
    "\n",
    "Pass 10: [39, 39, 43, 51, 53, 58, 71, 74, 81, 88]\n"
   ]
  },
  {
   "attachments": {},
   "cell_type": "markdown",
   "metadata": {},
   "source": [
    "# Sorting Words\n",
    "> Sorting strings works in the same way as integers. Using your expertise algorithm, sort the following list of random words."
   ]
  },
  {
   "cell_type": "code",
   "execution_count": 2,
   "metadata": {},
   "outputs": [
    {
     "name": "stderr",
     "output_type": "stream",
     "text": [
      "[nltk_data] Downloading package words to /home/liavb2/nltk_data...\n",
      "[nltk_data]   Package words is already up-to-date!\n"
     ]
    },
    {
     "name": "stdout",
     "output_type": "stream",
     "text": [
      "Random List\n"
     ]
    }
   ],
   "source": [
    "import nltk\n",
    "import random\n",
    "\n",
    "nltk.download('words')  # Download the word list (only required once)\n",
    "\n",
    "from nltk.corpus import words\n",
    "\n",
    "english_words = words.words()\n",
    "#print(len(english_words))  # Prints the number of words in the list\n",
    "\n",
    "# You can now use the 'english_words' list in your code\n",
    "\n",
    "words = []\n",
    "for i in range(10):\n",
    "    words.append(english_words[random.randint(0,len(english_words))])\n",
    "print(\"Random List\")\n"
   ]
  },
  {
   "cell_type": "code",
   "execution_count": 3,
   "metadata": {},
   "outputs": [
    {
     "name": "stdout",
     "output_type": "stream",
     "text": [
      "unsorted:\n",
      "['criniferous', 'logie', 'relatedness', 'prestidigital', 'Shirvan', 'ineducabilian', 'opiliaceous', 'undiscriminated', 'ballooner', 'treadmill']\n",
      "\n",
      "sorted:\n",
      "['ballooner', 'criniferous', 'ineducabilian', 'logie', 'opiliaceous', 'prestidigital', 'relatedness', 'Shirvan', 'treadmill', 'undiscriminated']\n"
     ]
    }
   ],
   "source": [
    "def merge_sort(arr):\n",
    "    if len(arr) <= 1:\n",
    "        return arr\n",
    "    mid = len(arr) // 2\n",
    "    left_half = arr[:mid]\n",
    "    right_half = arr[mid:]\n",
    "    left_half = merge_sort(left_half)\n",
    "    right_half = merge_sort(right_half)\n",
    "    return merge(left_half, right_half)\n",
    "def merge(left, right):\n",
    "    merged = []\n",
    "    left_index = 0\n",
    "    right_index = 0\n",
    "    while left_index < len(left) and right_index < len(right):\n",
    "        if left[left_index].lower() < right[right_index].lower():\n",
    "            merged.append(left[left_index])\n",
    "            left_index += 1\n",
    "        else:\n",
    "            merged.append(right[right_index])\n",
    "            right_index += 1\n",
    "    while left_index < len(left):\n",
    "        merged.append(left[left_index])\n",
    "        left_index += 1\n",
    "    while right_index < len(right):\n",
    "        merged.append(right[right_index])\n",
    "        right_index += 1\n",
    "    return merged\n",
    "words = ['criniferous', 'logie', 'relatedness', 'prestidigital', 'Shirvan', 'ineducabilian', 'opiliaceous', 'undiscriminated', 'ballooner', 'treadmill']\n",
    "sorted_words = merge_sort(words)\n",
    "\n",
    "print(\"unsorted:\")\n",
    "print(words)\n",
    "print()\n",
    "print(\"sorted:\")\n",
    "print(sorted_words)"
   ]
  },
  {
   "cell_type": "code",
   "execution_count": 4,
   "metadata": {},
   "outputs": [
    {
     "name": "stdout",
     "output_type": "stream",
     "text": [
      "['criniferous', 'logie', 'relatedness', 'prestidigital', 'Shirvan', 'ineducabilian', 'opiliaceous', 'undiscriminated', 'ballooner', 'treadmill']\n"
     ]
    }
   ],
   "source": [
    "print(words)\n",
    "\n"
   ]
  },
  {
   "attachments": {},
   "cell_type": "markdown",
   "metadata": {},
   "source": [
    "## Discuss \n",
    "Answer the following with your group.\n",
    "\n",
    "- When should you use each algorithm? What makes an algorithm the right choice?\n",
    "- Given the following lists...\n",
    "    - [0, 2, 6, 4, 8, 10]\n",
    "    - [Elephant, Banana, Cat, Dog, Apple]\n",
    "    - [29, 13, 83, 47, 32, 78, 100, 60, 65, 15, 24, 9, 40, 68, 53, 8, 90, 58, 39, 32, 34, 91, 74, 94, 49, 87, 34, 87, 23, 17, 27, 2, 38, 58, 84, 15, 9, 46, 74, 40, 44, 8, 55, 28, 81, 92, 81, 88, 53, 38, 19, 21, 9, 54, 21, 67, 3, 41, 3, 74, 13, 71, 70, 45, 5, 36, 80, 64, 97, 86, 73, 74, 94, 79, 49, 32, 20, 68, 64, 69, 1, 77, 31, 56, 100, 80, 48, 75, 85, 93, 67, 57, 26, 56, 43, 53, 59, 28, 67, 50]\n",
    "Select the algorithm you believe is best for each, explain."
   ]
  },
  {
   "attachments": {},
   "cell_type": "markdown",
   "metadata": {},
   "source": [
    "## HACKS\n",
    "> Provided below is a Bubble Sort Algorithm sorting a list of dictionaries based off of selected key.\n",
    "\n",
    "- Now it's time to do some coding...\n",
    "\n",
    "- Run code and then research and answer these questions...\n",
    "    - Is a list and/or dictionary in python considered a primitive or collection type?  Why?\n",
    "    - Is the list passed into bubble sort \"pass-by-value\" or \"pass-by-reference? Describe why in relation to output.\n",
    "\n",
    "- Implement new cell(s) and/or organize cells to do the following.\n",
    "    - Create your own list\n",
    "    - Use your expertise sorting algorithm (selection, insertion, merge). Note, I got my bubble sort from Geek for Geeks and made modifications. Each student in a group should have a unique algorithm.\n",
    "    - Test your list with my bubble sort\n",
    "    - Test my list with your new sort\n",
    "    - Research analysis on sorting: comparisons, swaps, time.  Build this into your hacks.\n",
    "    - Find a better way to print the data, key first, then other elements in viewable form.\n",
    "\n",
    "Use the code below to help guide your adventure"
   ]
  },
  {
   "cell_type": "code",
   "execution_count": 5,
   "metadata": {},
   "outputs": [
    {
     "name": "stdout",
     "output_type": "stream",
     "text": [
      "original\n",
      "[{'name': 'taylor swift', 'age': 33, 'album': 'folklore'}, {'name': 'harry styles', 'age': 29, 'album': 'fine line'}, {'name': 'gracie abrams', 'age': 23, 'album': 'good riddance'}]\n",
      "name\n",
      "[{'name': 'gracie abrams', 'age': 23, 'album': 'good riddance'}, {'name': 'harry styles', 'age': 29, 'album': 'fine line'}, {'name': 'taylor swift', 'age': 33, 'album': 'folklore'}]\n",
      "age\n",
      "[{'name': 'gracie abrams', 'age': 23, 'album': 'good riddance'}, {'name': 'harry styles', 'age': 29, 'album': 'fine line'}, {'name': 'taylor swift', 'age': 33, 'album': 'folklore'}]\n",
      "album\n",
      "[{'name': 'harry styles', 'age': 29, 'album': 'fine line'}, {'name': 'taylor swift', 'age': 33, 'album': 'folklore'}, {'name': 'gracie abrams', 'age': 23, 'album': 'good riddance'}]\n"
     ]
    }
   ],
   "source": [
    "\"\"\"\n",
    "* Creator: Nighthawk Coding Society\n",
    "Bubble Sort of a List with optimizations\n",
    "\"\"\"\n",
    "\n",
    "# bubble sorts a list of dictionaries, base off of provided key\n",
    "def bubbleSort(list, key):\n",
    "    n = len(list) - 1  # list are indexed 0 to n-1, len is n\n",
    "    \n",
    "    # Traverse through list with i index\n",
    "    for i in range(n):\n",
    "        swapped = False  # optimize code, so it exits if now swaps on inner loop\n",
    "\n",
    "        # Inner traversal using j index\n",
    "        for j in range(n-i):  # n-i as positions on right are in order in bubble\n",
    " \n",
    "            # Swap if the element KeyN is greater KeyN1\n",
    "            keyN = list[j].get(key)\n",
    "            keyN1 = list[j+1].get(key)\n",
    "            if keyN > keyN1:\n",
    "                swapped = True\n",
    "                list[j], list[j + 1] = list[j + 1], list[j]  # single line swap\n",
    "         \n",
    "        if not swapped:  # if no swaps on inner pass, list is sorted\n",
    "            return  # exit function\n",
    "    \n",
    "\n",
    "if __name__ == \"__main__\":\n",
    "    # list/dictionary sample\n",
    "    list_of_people = [\n",
    "    {\"name\": \"taylor swift\", \"age\": 33, \"album\": \"folklore\"},\n",
    "    {\"name\": \"harry styles\", \"age\": 29, \"album\": \"fine line\"},\n",
    "    {\"name\": \"gracie abrams\", \"age\": 23, \"album\": \"good riddance\"},\n",
    "    ]\n",
    "    \n",
    "    # assuming uniform keys, pick 1st row as source of keys\n",
    "    key_row = list_of_people[0]\n",
    "\n",
    "    # print list as defined\n",
    "    print(\"original\")\n",
    "    print(list_of_people)\n",
    "    \n",
    "    for key in key_row:  # finds each key in the row\n",
    "        print(key)\n",
    "        bubbleSort(list_of_people, key)  # sort list of people\n",
    "        print(list_of_people)"
   ]
  },
  {
   "attachments": {},
   "cell_type": "markdown",
   "metadata": {},
   "source": [
    "# merge sort"
   ]
  },
  {
   "cell_type": "code",
   "execution_count": 6,
   "metadata": {},
   "outputs": [
    {
     "name": "stdout",
     "output_type": "stream",
     "text": [
      "original\n",
      "[{'name': 'Tom Brady', 'age': 50, 'team': 'Patriots'}, {'name': 'Mahomes', 'age': 27, 'team': 'Chiefs'}, {'name': 'Justin Jefferson', 'age': 23, 'team': 'Vikings'}]\n",
      "name\n",
      "[{'name': 'Justin Jefferson', 'age': 23, 'team': 'Vikings'}, {'name': 'Mahomes', 'age': 27, 'team': 'Chiefs'}, {'name': 'Tom Brady', 'age': 50, 'team': 'Patriots'}]\n",
      "age\n",
      "[{'name': 'Justin Jefferson', 'age': 23, 'team': 'Vikings'}, {'name': 'Mahomes', 'age': 27, 'team': 'Chiefs'}, {'name': 'Tom Brady', 'age': 50, 'team': 'Patriots'}]\n",
      "team\n",
      "[{'name': 'Mahomes', 'age': 27, 'team': 'Chiefs'}, {'name': 'Tom Brady', 'age': 50, 'team': 'Patriots'}, {'name': 'Justin Jefferson', 'age': 23, 'team': 'Vikings'}]\n"
     ]
    }
   ],
   "source": [
    "def mergeSort(arr, key):\n",
    "    if len(arr) <= 1:\n",
    "        return arr\n",
    "    \n",
    "    mid = len(arr) // 2\n",
    "    left = arr[:mid]\n",
    "    right = arr[mid:]\n",
    "    \n",
    "    left = mergeSort(left, key)\n",
    "    right = mergeSort(right, key)\n",
    "    \n",
    "    return merge(left, right, key)\n",
    "\n",
    "def merge(left, right, key):\n",
    "    merged = []\n",
    "    i = j = 0\n",
    "    \n",
    "    while i < len(left) and j < len(right):\n",
    "        if left[i].get(key) <= right[j].get(key):\n",
    "            merged.append(left[i])\n",
    "            i += 1\n",
    "        else:\n",
    "            merged.append(right[j])\n",
    "            j += 1\n",
    "    \n",
    "    while i < len(left):\n",
    "        merged.append(left[i])\n",
    "        i += 1\n",
    "    \n",
    "    while j < len(right):\n",
    "        merged.append(right[j])\n",
    "        j += 1\n",
    "    \n",
    "    return merged\n",
    "\n",
    "\n",
    "if __name__ == \"__main__\":\n",
    "    # list/dictionary sample\n",
    "    list_of_people = [\n",
    "        {\"name\": \"Tom Brady\", \"age\": 50, \"team\": \"Patriots\"},\n",
    "        {\"name\": \"Mahomes\", \"age\": 27, \"team\": \"Chiefs\"},\n",
    "        {\"name\": \"Justin Jefferson\", \"age\": 23, \"team\": \"Vikings\"},\n",
    "    ]\n",
    "    \n",
    "    # assuming uniform keys, pick the first row as the source of keys\n",
    "    key_row = list_of_people[0]\n",
    "\n",
    "    # print the list as defined\n",
    "    print(\"original\")\n",
    "    print(list_of_people)\n",
    "    \n",
    "    for key in key_row:  # find each key in the row\n",
    "        print(key)\n",
    "        sorted_list = mergeSort(list_of_people, key)  # sort the list of people\n",
    "        print(sorted_list)"
   ]
  },
  {
   "attachments": {},
   "cell_type": "markdown",
   "metadata": {},
   "source": [
    "\n",
    "Comparison: The merge sort algorithm utilizes comparisons to establish the relative arrangement of elements during the merging phase. These comparisons are executed based on a specified key or attribute associated with the elements undergoing sorting.\n",
    "\n",
    "Swaps: Unlike other sorting algorithms, merge sort does not directly employ swaps to rearrange elements. Instead, the merging process in merge sort involves the creation of new lists or arrays to hold the sorted elements. The elements from the original list are selectively positioned in the appropriate locations within the newly merged list.\n",
    "\n",
    "Time: The time complexity of an algorithm estimates how its performance scales with the size of the input. In the case of merge sort, it exhibits a time complexity of O(n log n), where n represents the number of elements in the list. Consequently, when the size of the list doubles, the time required to sort it will increase by a factor of approximately two times the logarithm of the list size."
   ]
  },
  {
   "cell_type": "code",
   "execution_count": 7,
   "metadata": {},
   "outputs": [
    {
     "name": "stdout",
     "output_type": "stream",
     "text": [
      "Original:\n",
      "{'name': 'Tom Brady', 'age': 50, 'team': 'Patriots'}\n",
      "{'name': 'Mahomes', 'age': 27, 'team': 'Chiefs'}\n",
      "{'name': 'Justin Jefferson', 'age': 23, 'team': 'Vikings'}\n",
      "\n",
      "Sorted by Name:\n",
      "{'name': 'Justin Jefferson', 'age': 23, 'team': 'Vikings'}\n",
      "{'name': 'Mahomes', 'age': 27, 'team': 'Chiefs'}\n",
      "{'name': 'Tom Brady', 'age': 50, 'team': 'Patriots'}\n",
      "\n",
      "Sorted by Age:\n",
      "{'name': 'Justin Jefferson', 'age': 23, 'team': 'Vikings'}\n",
      "{'name': 'Mahomes', 'age': 27, 'team': 'Chiefs'}\n",
      "{'name': 'Tom Brady', 'age': 50, 'team': 'Patriots'}\n",
      "\n",
      "Sorted by team:\n",
      "{'name': 'Mahomes', 'age': 27, 'team': 'Chiefs'}\n",
      "{'name': 'Tom Brady', 'age': 50, 'team': 'Patriots'}\n",
      "{'name': 'Justin Jefferson', 'age': 23, 'team': 'Vikings'}\n"
     ]
    }
   ],
   "source": [
    "def mergeSort(arr, key):\n",
    "    if len(arr) <= 1:\n",
    "        return arr\n",
    "    \n",
    "    mid = len(arr) // 2\n",
    "    left = arr[:mid]\n",
    "    right = arr[mid:]\n",
    "    \n",
    "    left = mergeSort(left, key)\n",
    "    right = mergeSort(right, key)\n",
    "    \n",
    "    return merge(left, right, key)\n",
    "\n",
    "def merge(left, right, key):\n",
    "    merged = []\n",
    "    i = j = 0\n",
    "    \n",
    "    while i < len(left) and j < len(right):\n",
    "        if left[i].get(key) <= right[j].get(key):\n",
    "            merged.append(left[i])\n",
    "            i += 1\n",
    "        else:\n",
    "            merged.append(right[j])\n",
    "            j += 1\n",
    "    \n",
    "    while i < len(left):\n",
    "        merged.append(left[i])\n",
    "        i += 1\n",
    "    \n",
    "    while j < len(right):\n",
    "        merged.append(right[j])\n",
    "        j += 1\n",
    "    \n",
    "    return merged\n",
    "\n",
    "\n",
    "if __name__ == \"__main__\":\n",
    "    # list/dictionary sample\n",
    "    list_of_people = [\n",
    "        {\"name\": \"Tom Brady\", \"age\": 50, \"team\": \"Patriots\"},\n",
    "        {\"name\": \"Mahomes\", \"age\": 27, \"team\": \"Chiefs\"},\n",
    "        {\"name\": \"Justin Jefferson\", \"age\": 23, \"team\": \"Vikings\"},\n",
    "    ]\n",
    "    \n",
    "    # assuming uniform keys, pick the first row as the source of keys\n",
    "    key_row = list_of_people[0]\n",
    "\n",
    "    print(\"Original:\")\n",
    "    for person in list_of_people:\n",
    "        print(person)\n",
    "\n",
    "    print(\"\\nSorted by Name:\")\n",
    "    sorted_list = mergeSort(list_of_people, \"name\")\n",
    "    for person in sorted_list:\n",
    "        print(person)\n",
    "\n",
    "    print(\"\\nSorted by Age:\")\n",
    "    sorted_list = mergeSort(list_of_people, \"age\")\n",
    "    for person in sorted_list:\n",
    "        print(person)\n",
    "\n",
    "    print(\"\\nSorted by team:\")\n",
    "    sorted_list = mergeSort(list_of_people, \"team\")\n",
    "    for person in sorted_list:\n",
    "        print(person)"
   ]
  }
 ],
 "metadata": {
  "kernelspec": {
   "display_name": "base",
   "language": "python",
   "name": "python3"
  },
  "language_info": {
   "codemirror_mode": {
    "name": "ipython",
    "version": 3
   },
   "file_extension": ".py",
   "mimetype": "text/x-python",
   "name": "python",
   "nbconvert_exporter": "python",
   "pygments_lexer": "ipython3",
   "version": "3.9.12"
  },
  "orig_nbformat": 4
 },
 "nbformat": 4,
 "nbformat_minor": 2
}
