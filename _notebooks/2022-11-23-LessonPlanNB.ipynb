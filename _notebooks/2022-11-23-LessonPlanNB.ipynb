{
 "cells": [
  {
   "cell_type": "markdown",
   "metadata": {},
   "source": [
    "# Lesson Plan Jupyter Notebook\n",
    "> Jupyter Notebook for the rest of the class to follow along with.\n",
    "- toc: true\n",
    "- badges: true\n",
    "- comments: true\n",
    "- categories: [jupyter, python]"
   ]
  },
  {
   "cell_type": "markdown",
   "metadata": {},
   "source": [
    "# Managing Complexity with lists - Liav \n",
    "\n",
    "\n",
    "## Long and slow way\n",
    "- By now, everyone should know the \"long and slow way\" to print a list of something in python\n",
    "    - It is easy to just assign a value to a single variable\n",
    "    - This method is displayed in this example with test scores:"
   ]
  },
  {
   "cell_type": "code",
   "execution_count": null,
   "metadata": {},
   "outputs": [],
   "source": [
    "score1 = 95\n",
    "score2 = 24\n",
    "score3 = 87\n",
    "score4 = 92\n",
    "print(score1, score2, score3, score4)"
   ]
  },
  {
   "cell_type": "markdown",
   "metadata": {},
   "source": [
    "- As you can see, each score is assigned to its relative variable such as \"score1 = 95\" and then you just print each variable.\n",
    "- However you can make the code segment faster, easier to read, and more efficient..."
   ]
  },
  {
   "cell_type": "markdown",
   "metadata": {},
   "source": [
    "## Assinging values to one variable\n",
    "- Use square brackets \"[]\" to store the values of a certain variable, then you can simply print the variable to output your desired list:"
   ]
  },
  {
   "cell_type": "code",
   "execution_count": null,
   "metadata": {},
   "outputs": [],
   "source": [
    "scores = [95, 24, 87, 92]\n",
    "print(scores)"
   ]
  },
  {
   "cell_type": "markdown",
   "metadata": {},
   "source": [
    "- Now instead of having a difference variable and new line of code for each value, the list is simply displayed by assigning each value to a single value that you can now print.\n",
    "\n",
    "\n",
    "## How lists manage complexity of a program\n",
    "- Simplification\n",
    "    - It is much simpler, faster, and easier to code lists this way\n",
    "    - Makes the code segment much easier to read\n",
    "\n",
    "- Variables\n",
    "    - You do not need as many variables, because you can just assign all corresponding values to a single variable\n",
    "    - To change a value you don't have to edit/add/remove an entire variable\n"
   ]
  },
  {
   "cell_type": "markdown",
   "metadata": {},
   "source": [
    "## Python Quiz\n",
    "- Now everyone should take this short python quiz and screenshot your score."
   ]
  },
  {
   "cell_type": "code",
   "execution_count": 1,
   "metadata": {},
   "outputs": [],
   "source": [
    "import getpass, sys\n",
    "\n",
    "def question_with_response(prompt):\n",
    "    print(\"Question: \" + prompt)\n",
    "    msg = input()\n",
    "    return msg\n",
    "\n",
    "questions = 4\n",
    "correct = 0\n",
    "\n",
    "print('Hello, ' + getpass.getuser() + \" running \" + sys.executable)\n",
    "print(\"You will be asked \" + str(questions) + \" questions.\")\n",
    "question_with_response(\"Are you ready to take a test?\")\n",
    "\n",
    "rsp = question_with_response(\"The purpose of lists and dictionaries are to manage the ____ of a program\")\n",
    "if rsp == \"complexity\":\n",
    "    print(rsp + \" is correct!\")\n",
    "    correct += 1\n",
    "else:\n",
    "    print(rsp + \" is incorrect!\")\n",
    "\n",
    "rsp = question_with_response(\"Lists are a form of data ______\")\n",
    "if rsp == \"abstraction\":\n",
    "    print(rsp + \" is correct!\")\n",
    "    correct += 1\n",
    "else:\n",
    "    print(rsp + \" is incorrect!\")\n",
    "\n",
    "rsp = question_with_response(\"Which brackets are used to assign values to a variable to make a list?\")\n",
    "if rsp == \"[]\":\n",
    "    print(rsp + \" is correct!\")\n",
    "    correct += 1\n",
    "else:\n",
    "    print(rsp + \" is incorrect!\") \n",
    "\n",
    "print(getpass.getuser() + \" you scored \" + str(correct) +\"/\" + str(questions))"
   ]
  },
  {
   "cell_type": "markdown",
   "metadata": {},
   "source": [
    "## Simplify Foods List \n",
    "- Now simplify this foods list using what you have learned"
   ]
  },
  {
   "cell_type": "code",
   "execution_count": 4,
   "metadata": {},
   "outputs": [
    {
     "name": "stdout",
     "output_type": "stream",
     "text": [
      "pizza hot dog sushi strawberry sandwich\n"
     ]
    }
   ],
   "source": [
    "food1 = \"pizza\" \n",
    "food2 = \"hot dog\" \n",
    "food3 = \"sushi\"\n",
    "food4 = \"strawberry\"\n",
    "food5 = \"sandwich\"\n",
    "print(food1, food2, food3, food4, food5)"
   ]
  },
  {
   "cell_type": "markdown",
   "metadata": {},
   "source": [
    "## Hacks\n",
    "- On a single markdown file:\n",
    "    - Insert a screenshot of your score on the python quiz\n",
    "    - Insert a screenshot of your simplifying of the food list\n",
    "    - Why are using lists better for a program, rather than writing out each line of code?\n",
    "    - Make your own list the \"long and slow way\" then manage the complexity of the list\n",
    "\n",
    "## Rubric\n",
    "- In ordere to earn a .20/.20 you must\n",
    "    - On a markdown post:\n",
    "    - make an attempt at the python quiz\n",
    "    - Successfully simplify the food list\n",
    "    - Answer the question in detail\n",
    "    - Provide evidence of your own list that you coded"
   ]
  }
 ],
 "metadata": {
  "kernelspec": {
   "display_name": "Python 3.8.10 64-bit",
   "language": "python",
   "name": "python3"
  },
  "language_info": {
   "codemirror_mode": {
    "name": "ipython",
    "version": 3
   },
   "file_extension": ".py",
   "mimetype": "text/x-python",
   "name": "python",
   "nbconvert_exporter": "python",
   "pygments_lexer": "ipython3",
   "version": "3.8.10"
  },
  "orig_nbformat": 4,
  "vscode": {
   "interpreter": {
    "hash": "916dbcbb3f70747c44a77c7bcd40155683ae19c65e1c03b4aa3499c5328201f1"
   }
  }
 },
 "nbformat": 4,
 "nbformat_minor": 2
}
